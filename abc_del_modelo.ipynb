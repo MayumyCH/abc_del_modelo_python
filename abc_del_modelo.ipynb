{
  "nbformat": 4,
  "nbformat_minor": 0,
  "metadata": {
    "colab": {
      "name": "Proyecto_dataScienceFem.ipynb",
      "provenance": [],
      "collapsed_sections": []
    },
    "kernelspec": {
      "name": "python3",
      "display_name": "Python 3"
    },
    "language_info": {
      "name": "python"
    }
  },
  "cells": [
    {
      "cell_type": "markdown",
      "metadata": {
        "id": "mpL6wxqlEJR7"
      },
      "source": [
        "# El ABC del modelo predictivo\n",
        "\n",
        "![Baner_imagen](https://i.ibb.co/XDCkh3r/Banner-ABC-modelo.png)\n"
      ]
    },
    {
      "cell_type": "markdown",
      "metadata": {
        "id": "x5sJfDVKGJp3"
      },
      "source": [
        "**Angel Jorge Salazar | Analista de datos | Data Scientist  @ Kobranzas SAC**\n",
        "* Correo: angel.jorge@unmsm.edu.pe\n",
        "* Linkedin: https://www.linkedin.com/in/angel-jorge-salazar-7b3bb614b/\n",
        "* Github: https://github.com/ANGELJSS\n",
        "* Nro: +51 961 352 833\n",
        "---\n",
        "**Heydy Mayumy Carrasco Huaccha | Analista de datos | Data Analytic  @ Contraloria General de la Republica del Perú**\n",
        "* Correo: heydy.carrasco.huaccha@gmail.com\n",
        "* Linkedin: https://www.linkedin.com/in/heydy-mayumy-carrasco-huaccha-3876bb137/\n",
        "* Github: https://github.com/MayumyCH\n",
        "* Nro: +51 943377187\n",
        "---"
      ]
    },
    {
      "cell_type": "markdown",
      "metadata": {
        "id": "vLHg8c9AenGs"
      },
      "source": [
        "## 0.- Importación de librerias\n"
      ]
    },
    {
      "cell_type": "code",
      "metadata": {
        "id": "7mtpWykYHcth"
      },
      "source": [
        "import pandas as pd # Manejo de data estructurada (Dataframe)\n",
        "import numpy as np #Manejo de matrices\n",
        "import matplotlib.pyplot as plt # Gráficas\n",
        "import seaborn as sns  #Gráficas sencillas\n",
        "\n",
        "from sklearn.model_selection import train_test_split # Separar datos en Train(Entrenamiento) y Test(Prueba)"
      ],
      "execution_count": null,
      "outputs": []
    },
    {
      "cell_type": "markdown",
      "metadata": {
        "id": "Blr1WdBnVd5D"
      },
      "source": [
        "Usamos una semilla a lo largo de todo el notebook para los procesos aleatorios"
      ]
    },
    {
      "cell_type": "code",
      "metadata": {
        "id": "idLFo1YEVhDl"
      },
      "source": [
        "seed=2021 # Una semilla se usa para que el modelo sea replicable"
      ],
      "execution_count": null,
      "outputs": []
    },
    {
      "cell_type": "markdown",
      "metadata": {
        "id": "OkOzPpdsNddT"
      },
      "source": [
        "**FUNCIONES GENERALES**"
      ]
    },
    {
      "cell_type": "code",
      "metadata": {
        "id": "pM1tKev-NeHq"
      },
      "source": [
        "def analisisNumericas(df, variable):\n",
        "  # fig, ax = plt.subplots(1, 2,figsize=(12, 4))\n",
        "  # ax[0].hist(df[variable], bins=25)\n",
        "  # ax[1].boxplot(df[variable],0, 'gD')\n",
        "  # plt.show()\n",
        "\n",
        "  print(\" \"*20,\"Histograma\",\" \"*20)\n",
        "  df[variable].plot.hist(bins=25,figsize=(8,4),color=\"#CABDE9\")\n",
        "  plt.show()\n",
        "  print(\"\\n\")\n",
        "  print(\" \"*20,\"Boxplot\",\" \"*20)\n",
        "  df[variable].plot.box(figsize=(8,4))\n",
        "  plt.show()\n",
        "\n",
        "def analisisCategoricas(df, variable):\n",
        "  frecuencia_absoluta = pd.DataFrame(df[variable].astype('str').fillna('Nulo').value_counts(dropna = False))\n",
        "  frecuencia_absoluta.columns = ['FREC_ABS'] \n",
        "  frecuencia_relativa = pd.DataFrame(df[variable].astype('str').fillna('Nulo').value_counts(normalize = True, dropna = False))\n",
        "  frecuencia_relativa.columns = ['FREC_REL'] \n",
        "  tablaResumen = pd.concat([frecuencia_absoluta,frecuencia_relativa], axis = 1)\n",
        "  display(tablaResumen)\n",
        "  tablaResumen\n",
        "  plt.bar(x = tablaResumen.index, height = tablaResumen['FREC_ABS'], color=\"#CABDE9\")\n",
        "  for i, txt in enumerate(tablaResumen['FREC_ABS']):\n",
        "    plt.annotate(str(txt), (i, txt), fontsize = 12)\n",
        "  plt.twinx()\n",
        "  plt.plot(tablaResumen['FREC_REL'], linestyle='-', linewidth=2.0, color='red')\n",
        "  plt.ylim(0, 1)\n",
        "  for i, txt in enumerate(tablaResumen['FREC_REL']):\n",
        "    plt.annotate(str(round(txt * 100, 1)) + '%', (i, txt), fontsize = 12, ha='center')\n",
        "  plt.show()"
      ],
      "execution_count": null,
      "outputs": []
    },
    {
      "cell_type": "markdown",
      "metadata": {
        "id": "HhZ9oHejFisY"
      },
      "source": [
        "## 1.- Comprensión del Negocio"
      ]
    },
    {
      "cell_type": "markdown",
      "metadata": {
        "id": "trmoTdekGbMg"
      },
      "source": [
        "*La entidad financiera en estudio desea elevar sus ratios de aceptación para el producto del prestamo hipotecario por lo que desea identificar que clientes son más propensos a aceptar el prestamo hipotecario.*"
      ]
    },
    {
      "cell_type": "markdown",
      "metadata": {
        "id": "T-42-XRIFsJn"
      },
      "source": [
        "## 2.- Comprensión de los datos"
      ]
    },
    {
      "cell_type": "markdown",
      "metadata": {
        "id": "BYiNPGxvFXjF"
      },
      "source": [
        "**En esta etapa nos avocaremos a conocer todo lo referente a los datos con los que contamos**"
      ]
    },
    {
      "cell_type": "markdown",
      "metadata": {
        "id": "ZyLEgt-_rxF7"
      },
      "source": [
        "![img](https://i.ibb.co/PGP4KhH/descripcion-variable.png)"
      ]
    },
    {
      "cell_type": "markdown",
      "metadata": {
        "id": "7IoxiqidCxGn"
      },
      "source": [
        "### 2.1.- Recopilación de los Datos\n"
      ]
    },
    {
      "cell_type": "code",
      "metadata": {
        "id": "Y3Pj3mCXYZKK",
        "colab": {
          "base_uri": "https://localhost:8080/",
          "height": 259
        },
        "outputId": "917bc9ac-6ed5-42fe-e58e-6742a16b0e17"
      },
      "source": [
        "df = pd.read_csv('https://raw.githubusercontent.com/aldochavez/datasets/main/AdquisicionCreditoHipotecario.csv', index_col=False)\n",
        "df.head()"
      ],
      "execution_count": null,
      "outputs": [
        {
          "output_type": "execute_result",
          "data": {
            "text/html": [
              "<div>\n",
              "<style scoped>\n",
              "    .dataframe tbody tr th:only-of-type {\n",
              "        vertical-align: middle;\n",
              "    }\n",
              "\n",
              "    .dataframe tbody tr th {\n",
              "        vertical-align: top;\n",
              "    }\n",
              "\n",
              "    .dataframe thead th {\n",
              "        text-align: right;\n",
              "    }\n",
              "</style>\n",
              "<table border=\"1\" class=\"dataframe\">\n",
              "  <thead>\n",
              "    <tr style=\"text-align: right;\">\n",
              "      <th></th>\n",
              "      <th>Loan ID</th>\n",
              "      <th>Gender</th>\n",
              "      <th>Married</th>\n",
              "      <th>Dependents</th>\n",
              "      <th>Education</th>\n",
              "      <th>Self Employed</th>\n",
              "      <th>ApplicantIncome</th>\n",
              "      <th>CoapplicantIncome</th>\n",
              "      <th>LoanAmount</th>\n",
              "      <th>Loan_Amount_Term</th>\n",
              "      <th>Credit History</th>\n",
              "      <th>Property_Area</th>\n",
              "      <th>Loan_Status</th>\n",
              "    </tr>\n",
              "  </thead>\n",
              "  <tbody>\n",
              "    <tr>\n",
              "      <th>0</th>\n",
              "      <td>LP001002</td>\n",
              "      <td>Male</td>\n",
              "      <td>No</td>\n",
              "      <td>0</td>\n",
              "      <td>Graduate</td>\n",
              "      <td>No</td>\n",
              "      <td>5849</td>\n",
              "      <td>0.0</td>\n",
              "      <td>NaN</td>\n",
              "      <td>360.0</td>\n",
              "      <td>1.0</td>\n",
              "      <td>Urban</td>\n",
              "      <td>Y</td>\n",
              "    </tr>\n",
              "    <tr>\n",
              "      <th>1</th>\n",
              "      <td>LP001003</td>\n",
              "      <td>Male</td>\n",
              "      <td>Yes</td>\n",
              "      <td>1</td>\n",
              "      <td>Graduate</td>\n",
              "      <td>No</td>\n",
              "      <td>4583</td>\n",
              "      <td>1508.0</td>\n",
              "      <td>128.0</td>\n",
              "      <td>360.0</td>\n",
              "      <td>1.0</td>\n",
              "      <td>Rural</td>\n",
              "      <td>N</td>\n",
              "    </tr>\n",
              "    <tr>\n",
              "      <th>2</th>\n",
              "      <td>LP001005</td>\n",
              "      <td>Male</td>\n",
              "      <td>Yes</td>\n",
              "      <td>0</td>\n",
              "      <td>Graduate</td>\n",
              "      <td>Yes</td>\n",
              "      <td>3000</td>\n",
              "      <td>0.0</td>\n",
              "      <td>66.0</td>\n",
              "      <td>360.0</td>\n",
              "      <td>1.0</td>\n",
              "      <td>Urban</td>\n",
              "      <td>Y</td>\n",
              "    </tr>\n",
              "    <tr>\n",
              "      <th>3</th>\n",
              "      <td>LP001006</td>\n",
              "      <td>Male</td>\n",
              "      <td>Yes</td>\n",
              "      <td>0</td>\n",
              "      <td>Not Graduate</td>\n",
              "      <td>No</td>\n",
              "      <td>2583</td>\n",
              "      <td>2358.0</td>\n",
              "      <td>120.0</td>\n",
              "      <td>360.0</td>\n",
              "      <td>1.0</td>\n",
              "      <td>Urban</td>\n",
              "      <td>Y</td>\n",
              "    </tr>\n",
              "    <tr>\n",
              "      <th>4</th>\n",
              "      <td>LP001008</td>\n",
              "      <td>Male</td>\n",
              "      <td>No</td>\n",
              "      <td>0</td>\n",
              "      <td>Graduate</td>\n",
              "      <td>No</td>\n",
              "      <td>6000</td>\n",
              "      <td>0.0</td>\n",
              "      <td>141.0</td>\n",
              "      <td>360.0</td>\n",
              "      <td>1.0</td>\n",
              "      <td>Urban</td>\n",
              "      <td>Y</td>\n",
              "    </tr>\n",
              "  </tbody>\n",
              "</table>\n",
              "</div>"
            ],
            "text/plain": [
              "    Loan ID Gender Married  ... Credit History Property_Area Loan_Status\n",
              "0  LP001002   Male      No  ...            1.0         Urban           Y\n",
              "1  LP001003   Male     Yes  ...            1.0         Rural           N\n",
              "2  LP001005   Male     Yes  ...            1.0         Urban           Y\n",
              "3  LP001006   Male     Yes  ...            1.0         Urban           Y\n",
              "4  LP001008   Male      No  ...            1.0         Urban           Y\n",
              "\n",
              "[5 rows x 13 columns]"
            ]
          },
          "metadata": {
            "tags": []
          },
          "execution_count": 181
        }
      ]
    },
    {
      "cell_type": "code",
      "metadata": {
        "colab": {
          "base_uri": "https://localhost:8080/"
        },
        "id": "0UZx9cW5HT0n",
        "outputId": "c1e44562-0c93-485a-b907-7bd171f80fbd"
      },
      "source": [
        "df.shape\n",
        "# INTERPRETACION:\n",
        "# 614 observaciones | registros o filas\n",
        "# 13 variables | features o columnas"
      ],
      "execution_count": null,
      "outputs": [
        {
          "output_type": "execute_result",
          "data": {
            "text/plain": [
              "(614, 13)"
            ]
          },
          "metadata": {
            "tags": []
          },
          "execution_count": 182
        }
      ]
    },
    {
      "cell_type": "code",
      "metadata": {
        "id": "RxGmWPzVIe8R"
      },
      "source": [
        "# df.info()"
      ],
      "execution_count": null,
      "outputs": []
    },
    {
      "cell_type": "code",
      "metadata": {
        "id": "P0nsnz7gWvLS"
      },
      "source": [
        "target = 'Loan_Status'"
      ],
      "execution_count": null,
      "outputs": []
    },
    {
      "cell_type": "code",
      "metadata": {
        "id": "7_vY_im0jdTd"
      },
      "source": [
        "#Transformamos la variable respuesta(Label) a una variable binaria\n",
        "# Y=1, N=0\n",
        "df[target] = df[target].replace(['Y','N'],[1,0])"
      ],
      "execution_count": null,
      "outputs": []
    },
    {
      "cell_type": "code",
      "metadata": {
        "colab": {
          "base_uri": "https://localhost:8080/"
        },
        "id": "8KSk2oU8XBVT",
        "outputId": "2292edde-a829-4f2f-f901-49c00eaaa82c"
      },
      "source": [
        "df[target].value_counts()\n",
        "### Donde:\n",
        "# 1 nos indica: personas  que aceptaron el crédito\n",
        "# 0 nos indica: personas que no aceptaron el crédito"
      ],
      "execution_count": null,
      "outputs": [
        {
          "output_type": "execute_result",
          "data": {
            "text/plain": [
              "1    422\n",
              "0    192\n",
              "Name: Loan_Status, dtype: int64"
            ]
          },
          "metadata": {
            "tags": []
          },
          "execution_count": 188
        }
      ]
    },
    {
      "cell_type": "code",
      "metadata": {
        "colab": {
          "base_uri": "https://localhost:8080/"
        },
        "id": "E6-ikhQ4XhJS",
        "outputId": "cc67322f-e1b9-4711-c332-869e327c49d0"
      },
      "source": [
        "df[target].value_counts(normalize = True)"
      ],
      "execution_count": null,
      "outputs": [
        {
          "output_type": "execute_result",
          "data": {
            "text/plain": [
              "1    0.687296\n",
              "0    0.312704\n",
              "Name: Loan_Status, dtype: float64"
            ]
          },
          "metadata": {
            "tags": []
          },
          "execution_count": 189
        }
      ]
    },
    {
      "cell_type": "code",
      "metadata": {
        "colab": {
          "base_uri": "https://localhost:8080/",
          "height": 313
        },
        "id": "pK03o5O1XkoI",
        "outputId": "1f7553cc-3210-4658-bbe9-46feebbc7235"
      },
      "source": [
        "### Observamos la frecuencia de los datos a predecir(class)###\n",
        "LABELS =['Aceptó','No aceptó']\n",
        "count_classes = pd.value_counts(df['Loan_Status'], sort = True)\n",
        "count_classes.plot(kind = 'bar', rot=0)\n",
        "plt.xticks(range(2), LABELS)\n",
        "plt.title(\"Frequencia por número de observación\")\n",
        "plt.xlabel(\"Clase\")\n",
        "plt.ylabel(\"Numero de observaciones\")"
      ],
      "execution_count": null,
      "outputs": [
        {
          "output_type": "execute_result",
          "data": {
            "text/plain": [
              "Text(0, 0.5, 'Numero de observaciones')"
            ]
          },
          "metadata": {
            "tags": []
          },
          "execution_count": 190
        },
        {
          "output_type": "display_data",
          "data": {
            "image/png": "[encoded data removed]",
            "text/plain": [
              "<Figure size 432x288 with 1 Axes>"
            ]
          },
          "metadata": {
            "tags": [],
            "needs_background": "light"
          }
        }
      ]
    },
    {
      "cell_type": "code",
      "metadata": {
        "colab": {
          "base_uri": "https://localhost:8080/",
          "height": 248
        },
        "id": "y4iT90JpYJfB",
        "outputId": "09912383-f496-43e7-a1c9-c74602389c99"
      },
      "source": [
        "# Observamos la etiqueta en porcentajes y en gráfico pastel\n",
        "plt.pie(pd.value_counts(df['Loan_Status']), labels=LABELS, autopct=\"%0.1f %%\")\n",
        "plt.axis(\"equal\")\n",
        "plt.show()"
      ],
      "execution_count": null,
      "outputs": [
        {
          "output_type": "display_data",
          "data": {
            "image/png": "[encoded data removed]",
            "text/plain": [
              "<Figure size 432x288 with 1 Axes>"
            ]
          },
          "metadata": {
            "tags": []
          }
        }
      ]
    },
    {
      "cell_type": "markdown",
      "metadata": {
        "id": "6qSNswnAYxwX"
      },
      "source": [
        "### 2.2  División en conjuntos de entrenamiento y prueba"
      ]
    },
    {
      "cell_type": "code",
      "metadata": {
        "colab": {
          "base_uri": "https://localhost:8080/",
          "height": 149
        },
        "id": "9KhB6i3MZGNs",
        "outputId": "03252a7d-2e77-4138-e1e5-1776f6048a07"
      },
      "source": [
        "df.head(2)"
      ],
      "execution_count": null,
      "outputs": [
        {
          "output_type": "execute_result",
          "data": {
            "text/html": [
              "<div>\n",
              "<style scoped>\n",
              "    .dataframe tbody tr th:only-of-type {\n",
              "        vertical-align: middle;\n",
              "    }\n",
              "\n",
              "    .dataframe tbody tr th {\n",
              "        vertical-align: top;\n",
              "    }\n",
              "\n",
              "    .dataframe thead th {\n",
              "        text-align: right;\n",
              "    }\n",
              "</style>\n",
              "<table border=\"1\" class=\"dataframe\">\n",
              "  <thead>\n",
              "    <tr style=\"text-align: right;\">\n",
              "      <th></th>\n",
              "      <th>Loan ID</th>\n",
              "      <th>Gender</th>\n",
              "      <th>Married</th>\n",
              "      <th>Dependents</th>\n",
              "      <th>Education</th>\n",
              "      <th>Self Employed</th>\n",
              "      <th>ApplicantIncome</th>\n",
              "      <th>CoapplicantIncome</th>\n",
              "      <th>LoanAmount</th>\n",
              "      <th>Loan_Amount_Term</th>\n",
              "      <th>Credit History</th>\n",
              "      <th>Property_Area</th>\n",
              "      <th>Loan_Status</th>\n",
              "    </tr>\n",
              "  </thead>\n",
              "  <tbody>\n",
              "    <tr>\n",
              "      <th>0</th>\n",
              "      <td>LP001002</td>\n",
              "      <td>Male</td>\n",
              "      <td>No</td>\n",
              "      <td>0</td>\n",
              "      <td>Graduate</td>\n",
              "      <td>No</td>\n",
              "      <td>5849</td>\n",
              "      <td>0.0</td>\n",
              "      <td>NaN</td>\n",
              "      <td>360.0</td>\n",
              "      <td>1.0</td>\n",
              "      <td>Urban</td>\n",
              "      <td>1</td>\n",
              "    </tr>\n",
              "    <tr>\n",
              "      <th>1</th>\n",
              "      <td>LP001003</td>\n",
              "      <td>Male</td>\n",
              "      <td>Yes</td>\n",
              "      <td>1</td>\n",
              "      <td>Graduate</td>\n",
              "      <td>No</td>\n",
              "      <td>4583</td>\n",
              "      <td>1508.0</td>\n",
              "      <td>128.0</td>\n",
              "      <td>360.0</td>\n",
              "      <td>1.0</td>\n",
              "      <td>Rural</td>\n",
              "      <td>0</td>\n",
              "    </tr>\n",
              "  </tbody>\n",
              "</table>\n",
              "</div>"
            ],
            "text/plain": [
              "    Loan ID Gender Married  ... Credit History Property_Area Loan_Status\n",
              "0  LP001002   Male      No  ...            1.0         Urban           1\n",
              "1  LP001003   Male     Yes  ...            1.0         Rural           0\n",
              "\n",
              "[2 rows x 13 columns]"
            ]
          },
          "metadata": {
            "tags": []
          },
          "execution_count": 192
        }
      ]
    },
    {
      "cell_type": "code",
      "metadata": {
        "id": "ESMpxporY3d9"
      },
      "source": [
        "# No se considera como una variable el id(llave de la data)\n",
        "X = df.iloc[:,1:12]\n",
        "y = df[target]"
      ],
      "execution_count": null,
      "outputs": []
    },
    {
      "cell_type": "code",
      "metadata": {
        "colab": {
          "base_uri": "https://localhost:8080/",
          "height": 129
        },
        "id": "Mf-94LbXZcoa",
        "outputId": "3994099d-fa9a-4bab-e116-7668e157f162"
      },
      "source": [
        "X.head(2)"
      ],
      "execution_count": null,
      "outputs": [
        {
          "output_type": "execute_result",
          "data": {
            "text/html": [
              "<div>\n",
              "<style scoped>\n",
              "    .dataframe tbody tr th:only-of-type {\n",
              "        vertical-align: middle;\n",
              "    }\n",
              "\n",
              "    .dataframe tbody tr th {\n",
              "        vertical-align: top;\n",
              "    }\n",
              "\n",
              "    .dataframe thead th {\n",
              "        text-align: right;\n",
              "    }\n",
              "</style>\n",
              "<table border=\"1\" class=\"dataframe\">\n",
              "  <thead>\n",
              "    <tr style=\"text-align: right;\">\n",
              "      <th></th>\n",
              "      <th>Gender</th>\n",
              "      <th>Married</th>\n",
              "      <th>Dependents</th>\n",
              "      <th>Education</th>\n",
              "      <th>Self Employed</th>\n",
              "      <th>ApplicantIncome</th>\n",
              "      <th>CoapplicantIncome</th>\n",
              "      <th>LoanAmount</th>\n",
              "      <th>Loan_Amount_Term</th>\n",
              "      <th>Credit History</th>\n",
              "      <th>Property_Area</th>\n",
              "    </tr>\n",
              "  </thead>\n",
              "  <tbody>\n",
              "    <tr>\n",
              "      <th>0</th>\n",
              "      <td>Male</td>\n",
              "      <td>No</td>\n",
              "      <td>0</td>\n",
              "      <td>Graduate</td>\n",
              "      <td>No</td>\n",
              "      <td>5849</td>\n",
              "      <td>0.0</td>\n",
              "      <td>NaN</td>\n",
              "      <td>360.0</td>\n",
              "      <td>1.0</td>\n",
              "      <td>Urban</td>\n",
              "    </tr>\n",
              "    <tr>\n",
              "      <th>1</th>\n",
              "      <td>Male</td>\n",
              "      <td>Yes</td>\n",
              "      <td>1</td>\n",
              "      <td>Graduate</td>\n",
              "      <td>No</td>\n",
              "      <td>4583</td>\n",
              "      <td>1508.0</td>\n",
              "      <td>128.0</td>\n",
              "      <td>360.0</td>\n",
              "      <td>1.0</td>\n",
              "      <td>Rural</td>\n",
              "    </tr>\n",
              "  </tbody>\n",
              "</table>\n",
              "</div>"
            ],
            "text/plain": [
              "  Gender Married Dependents  ... Loan_Amount_Term Credit History  Property_Area\n",
              "0   Male      No          0  ...            360.0            1.0          Urban\n",
              "1   Male     Yes          1  ...            360.0            1.0          Rural\n",
              "\n",
              "[2 rows x 11 columns]"
            ]
          },
          "metadata": {
            "tags": []
          },
          "execution_count": 194
        }
      ]
    },
    {
      "cell_type": "code",
      "metadata": {
        "id": "P4egRQHCaEq7"
      },
      "source": [
        "#División de la data \n",
        "# stratify:se usa para mantener la homogeneidad en la división de los data\n",
        "X_train, X_test, y_train, y_test = train_test_split(X, y, test_size = 0.2, stratify = y, random_state = seed)"
      ],
      "execution_count": null,
      "outputs": []
    },
    {
      "cell_type": "markdown",
      "metadata": {
        "id": "B0nB3IhqnWSi"
      },
      "source": [
        "![](https://miro.medium.com/max/724/1*-8_kogvwmL1H6ooN1A1tsQ.png)"
      ]
    },
    {
      "cell_type": "markdown",
      "metadata": {
        "id": "JZYypPJ7F92f"
      },
      "source": [
        "### 2.3.- Exploración de los Datos"
      ]
    },
    {
      "cell_type": "code",
      "metadata": {
        "colab": {
          "base_uri": "https://localhost:8080/",
          "height": 299
        },
        "id": "jGnfxSpAahxc",
        "outputId": "bc5dd6f0-10b2-4faa-84d2-a610a900d0ef"
      },
      "source": [
        "# Para variables Numéricas\n",
        "X_train.describe()"
      ],
      "execution_count": null,
      "outputs": [
        {
          "output_type": "execute_result",
          "data": {
            "text/html": [
              "<div>\n",
              "<style scoped>\n",
              "    .dataframe tbody tr th:only-of-type {\n",
              "        vertical-align: middle;\n",
              "    }\n",
              "\n",
              "    .dataframe tbody tr th {\n",
              "        vertical-align: top;\n",
              "    }\n",
              "\n",
              "    .dataframe thead th {\n",
              "        text-align: right;\n",
              "    }\n",
              "</style>\n",
              "<table border=\"1\" class=\"dataframe\">\n",
              "  <thead>\n",
              "    <tr style=\"text-align: right;\">\n",
              "      <th></th>\n",
              "      <th>ApplicantIncome</th>\n",
              "      <th>CoapplicantIncome</th>\n",
              "      <th>LoanAmount</th>\n",
              "      <th>Loan_Amount_Term</th>\n",
              "      <th>Credit History</th>\n",
              "    </tr>\n",
              "  </thead>\n",
              "  <tbody>\n",
              "    <tr>\n",
              "      <th>count</th>\n",
              "      <td>491.000000</td>\n",
              "      <td>491.000000</td>\n",
              "      <td>472.000000</td>\n",
              "      <td>481.000000</td>\n",
              "      <td>451.000000</td>\n",
              "    </tr>\n",
              "    <tr>\n",
              "      <th>mean</th>\n",
              "      <td>5577.175153</td>\n",
              "      <td>1571.759511</td>\n",
              "      <td>147.294492</td>\n",
              "      <td>341.413721</td>\n",
              "      <td>0.842572</td>\n",
              "    </tr>\n",
              "    <tr>\n",
              "      <th>std</th>\n",
              "      <td>6642.808005</td>\n",
              "      <td>2764.253596</td>\n",
              "      <td>87.981011</td>\n",
              "      <td>64.350063</td>\n",
              "      <td>0.364608</td>\n",
              "    </tr>\n",
              "    <tr>\n",
              "      <th>min</th>\n",
              "      <td>210.000000</td>\n",
              "      <td>0.000000</td>\n",
              "      <td>9.000000</td>\n",
              "      <td>12.000000</td>\n",
              "      <td>0.000000</td>\n",
              "    </tr>\n",
              "    <tr>\n",
              "      <th>25%</th>\n",
              "      <td>2874.500000</td>\n",
              "      <td>0.000000</td>\n",
              "      <td>100.000000</td>\n",
              "      <td>360.000000</td>\n",
              "      <td>1.000000</td>\n",
              "    </tr>\n",
              "    <tr>\n",
              "      <th>50%</th>\n",
              "      <td>3813.000000</td>\n",
              "      <td>1131.000000</td>\n",
              "      <td>127.000000</td>\n",
              "      <td>360.000000</td>\n",
              "      <td>1.000000</td>\n",
              "    </tr>\n",
              "    <tr>\n",
              "      <th>75%</th>\n",
              "      <td>5892.000000</td>\n",
              "      <td>2264.500000</td>\n",
              "      <td>172.000000</td>\n",
              "      <td>360.000000</td>\n",
              "      <td>1.000000</td>\n",
              "    </tr>\n",
              "    <tr>\n",
              "      <th>max</th>\n",
              "      <td>81000.000000</td>\n",
              "      <td>41667.000000</td>\n",
              "      <td>700.000000</td>\n",
              "      <td>480.000000</td>\n",
              "      <td>1.000000</td>\n",
              "    </tr>\n",
              "  </tbody>\n",
              "</table>\n",
              "</div>"
            ],
            "text/plain": [
              "       ApplicantIncome  CoapplicantIncome  ...  Loan_Amount_Term  Credit History\n",
              "count       491.000000         491.000000  ...        481.000000      451.000000\n",
              "mean       5577.175153        1571.759511  ...        341.413721        0.842572\n",
              "std        6642.808005        2764.253596  ...         64.350063        0.364608\n",
              "min         210.000000           0.000000  ...         12.000000        0.000000\n",
              "25%        2874.500000           0.000000  ...        360.000000        1.000000\n",
              "50%        3813.000000        1131.000000  ...        360.000000        1.000000\n",
              "75%        5892.000000        2264.500000  ...        360.000000        1.000000\n",
              "max       81000.000000       41667.000000  ...        480.000000        1.000000\n",
              "\n",
              "[8 rows x 5 columns]"
            ]
          },
          "metadata": {
            "tags": []
          },
          "execution_count": 196
        }
      ]
    },
    {
      "cell_type": "code",
      "metadata": {
        "colab": {
          "base_uri": "https://localhost:8080/",
          "height": 174
        },
        "id": "TFuk9pu4aw65",
        "outputId": "af9c45f1-d3b4-40b3-c0e0-250bb419d2df"
      },
      "source": [
        "# Para variables categóricas\n",
        "X_train.describe(include = 'object')"
      ],
      "execution_count": null,
      "outputs": [
        {
          "output_type": "execute_result",
          "data": {
            "text/html": [
              "<div>\n",
              "<style scoped>\n",
              "    .dataframe tbody tr th:only-of-type {\n",
              "        vertical-align: middle;\n",
              "    }\n",
              "\n",
              "    .dataframe tbody tr th {\n",
              "        vertical-align: top;\n",
              "    }\n",
              "\n",
              "    .dataframe thead th {\n",
              "        text-align: right;\n",
              "    }\n",
              "</style>\n",
              "<table border=\"1\" class=\"dataframe\">\n",
              "  <thead>\n",
              "    <tr style=\"text-align: right;\">\n",
              "      <th></th>\n",
              "      <th>Gender</th>\n",
              "      <th>Married</th>\n",
              "      <th>Dependents</th>\n",
              "      <th>Education</th>\n",
              "      <th>Self Employed</th>\n",
              "      <th>Property_Area</th>\n",
              "    </tr>\n",
              "  </thead>\n",
              "  <tbody>\n",
              "    <tr>\n",
              "      <th>count</th>\n",
              "      <td>480</td>\n",
              "      <td>490</td>\n",
              "      <td>481</td>\n",
              "      <td>491</td>\n",
              "      <td>465</td>\n",
              "      <td>491</td>\n",
              "    </tr>\n",
              "    <tr>\n",
              "      <th>unique</th>\n",
              "      <td>2</td>\n",
              "      <td>2</td>\n",
              "      <td>4</td>\n",
              "      <td>2</td>\n",
              "      <td>2</td>\n",
              "      <td>3</td>\n",
              "    </tr>\n",
              "    <tr>\n",
              "      <th>top</th>\n",
              "      <td>Male</td>\n",
              "      <td>Yes</td>\n",
              "      <td>0</td>\n",
              "      <td>Graduate</td>\n",
              "      <td>No</td>\n",
              "      <td>Semiurban</td>\n",
              "    </tr>\n",
              "    <tr>\n",
              "      <th>freq</th>\n",
              "      <td>388</td>\n",
              "      <td>320</td>\n",
              "      <td>272</td>\n",
              "      <td>388</td>\n",
              "      <td>396</td>\n",
              "      <td>180</td>\n",
              "    </tr>\n",
              "  </tbody>\n",
              "</table>\n",
              "</div>"
            ],
            "text/plain": [
              "       Gender Married Dependents Education Self Employed Property_Area\n",
              "count     480     490        481       491           465           491\n",
              "unique      2       2          4         2             2             3\n",
              "top      Male     Yes          0  Graduate            No     Semiurban\n",
              "freq      388     320        272       388           396           180"
            ]
          },
          "metadata": {
            "tags": []
          },
          "execution_count": 198
        }
      ]
    },
    {
      "cell_type": "markdown",
      "metadata": {
        "id": "7D08OpjNGNl1"
      },
      "source": [
        "**Aplicaremos diversas técnicas estadísticas para conocer más a profundidad los datos**"
      ]
    },
    {
      "cell_type": "markdown",
      "metadata": {
        "id": "-qCkUsFib6i8"
      },
      "source": [
        "Exploramos las distribuciones y percentiles de las variables"
      ]
    },
    {
      "cell_type": "code",
      "metadata": {
        "id": "ioHtnElYvC-P"
      },
      "source": [
        "varCategoricas = ['Gender','Married','Dependents','Education','Self Employed','Credit History','Property_Area']\n",
        "varNumericas = ['ApplicantIncome','CoapplicantIncome','LoanAmount','Loan_Amount_Term']"
      ],
      "execution_count": null,
      "outputs": []
    },
    {
      "cell_type": "code",
      "metadata": {
        "colab": {
          "base_uri": "https://localhost:8080/",
          "height": 1000
        },
        "id": "tZmlR3dKvTWk",
        "outputId": "07719335-4a35-440a-95c3-58ac0f52a87f"
      },
      "source": [
        "for numerica in varNumericas:\n",
        "  print(\"#\"*20,numerica,\"#\"*20)\n",
        "  analisisNumericas(X_train, numerica)\n",
        "  print(\"\\n\\n\")"
      ],
      "execution_count": null,
      "outputs": [
        {
          "output_type": "stream",
          "text": [
            "#################### ApplicantIncome ####################\n",
            "                     Histograma                     \n"
          ],
          "name": "stdout"
        },
        {
          "output_type": "display_data",
          "data": {
            "image/png": "[encoded data removed]",
            "text/plain": [
              "<Figure size 576x288 with 1 Axes>"
            ]
          },
          "metadata": {
            "tags": [],
            "needs_background": "light"
          }
        },
        {
          "output_type": "stream",
          "text": [
            "\n",
            "\n",
            "                     Boxplot                     \n"
          ],
          "name": "stdout"
        },
        {
          "output_type": "display_data",
          "data": {
            "image/png": "[encoded data removed]",
            "text/plain": [
              "<Figure size 576x288 with 1 Axes>"
            ]
          },
          "metadata": {
            "tags": [],
            "needs_background": "light"
          }
        },
        {
          "output_type": "stream",
          "text": [
            "\n",
            "\n",
            "\n",
            "#################### CoapplicantIncome ####################\n",
            "                     Histograma                     \n"
          ],
          "name": "stdout"
        },
        {
          "output_type": "display_data",
          "data": {
            "image/png": "[encoded data removed]",
            "text/plain": [
              "<Figure size 576x288 with 1 Axes>"
            ]
          },
          "metadata": {
            "tags": [],
            "needs_background": "light"
          }
        },
        {
          "output_type": "stream",
          "text": [
            "\n",
            "\n",
            "                     Boxplot                     \n"
          ],
          "name": "stdout"
        },
        {
          "output_type": "display_data",
          "data": {
            "image/png": "[encoded data removed]",
            "text/plain": [
              "<Figure size 576x288 with 1 Axes>"
            ]
          },
          "metadata": {
            "tags": [],
            "needs_background": "light"
          }
        },
        {
          "output_type": "stream",
          "text": [
            "\n",
            "\n",
            "\n",
            "#################### LoanAmount ####################\n",
            "                     Histograma                     \n"
          ],
          "name": "stdout"
        },
        {
          "output_type": "display_data",
          "data": {
            "image/png": "[encoded data removed]",
            "text/plain": [
              "<Figure size 576x288 with 1 Axes>"
            ]
          },
          "metadata": {
            "tags": [],
            "needs_background": "light"
          }
        },
        {
          "output_type": "stream",
          "text": [
            "\n",
            "\n",
            "                     Boxplot                     \n"
          ],
          "name": "stdout"
        },
        {
          "output_type": "display_data",
          "data": {
            "image/png": "[encoded data removed]",
            "text/plain": [
              "<Figure size 576x288 with 1 Axes>"
            ]
          },
          "metadata": {
            "tags": [],
            "needs_background": "light"
          }
        },
        {
          "output_type": "stream",
          "text": [
            "\n",
            "\n",
            "\n",
            "#################### Loan_Amount_Term ####################\n",
            "                     Histograma                     \n"
          ],
          "name": "stdout"
        },
        {
          "output_type": "display_data",
          "data": {
            "image/png": "[encoded data removed]",
            "text/plain": [
              "<Figure size 576x288 with 1 Axes>"
            ]
          },
          "metadata": {
            "tags": [],
            "needs_background": "light"
          }
        },
        {
          "output_type": "stream",
          "text": [
            "\n",
            "\n",
            "                     Boxplot                     \n"
          ],
          "name": "stdout"
        },
        {
          "output_type": "display_data",
          "data": {
            "image/png": "[encoded data removed]",
            "text/plain": [
              "<Figure size 576x288 with 1 Axes>"
            ]
          },
          "metadata": {
            "tags": [],
            "needs_background": "light"
          }
        },
        {
          "output_type": "stream",
          "text": [
            "\n",
            "\n",
            "\n"
          ],
          "name": "stdout"
        }
      ]
    },
    {
      "cell_type": "code",
      "metadata": {
        "colab": {
          "base_uri": "https://localhost:8080/",
          "height": 1000
        },
        "id": "DhkJSWgcvn1K",
        "outputId": "f2a11e13-7e95-4357-dc99-3228149a366d"
      },
      "source": [
        "#Sacamos el analisis categorico para cada variable\n",
        "for categorica in varCategoricas:\n",
        "    print(\"-\"*20,categorica,\"-\"*20)\n",
        "    analisisCategoricas(X_train, categorica)\n",
        "    print(\"\\n\\n\")"
      ],
      "execution_count": null,
      "outputs": [
        {
          "output_type": "stream",
          "text": [
            "-------------------- Gender --------------------\n"
          ],
          "name": "stdout"
        },
        {
          "output_type": "display_data",
          "data": {
            "text/html": [
              "<div>\n",
              "<style scoped>\n",
              "    .dataframe tbody tr th:only-of-type {\n",
              "        vertical-align: middle;\n",
              "    }\n",
              "\n",
              "    .dataframe tbody tr th {\n",
              "        vertical-align: top;\n",
              "    }\n",
              "\n",
              "    .dataframe thead th {\n",
              "        text-align: right;\n",
              "    }\n",
              "</style>\n",
              "<table border=\"1\" class=\"dataframe\">\n",
              "  <thead>\n",
              "    <tr style=\"text-align: right;\">\n",
              "      <th></th>\n",
              "      <th>FREC_ABS</th>\n",
              "      <th>FREC_REL</th>\n",
              "    </tr>\n",
              "  </thead>\n",
              "  <tbody>\n",
              "    <tr>\n",
              "      <th>Male</th>\n",
              "      <td>388</td>\n",
              "      <td>0.790224</td>\n",
              "    </tr>\n",
              "    <tr>\n",
              "      <th>Female</th>\n",
              "      <td>92</td>\n",
              "      <td>0.187373</td>\n",
              "    </tr>\n",
              "    <tr>\n",
              "      <th>nan</th>\n",
              "      <td>11</td>\n",
              "      <td>0.022403</td>\n",
              "    </tr>\n",
              "  </tbody>\n",
              "</table>\n",
              "</div>"
            ],
            "text/plain": [
              "        FREC_ABS  FREC_REL\n",
              "Male         388  0.790224\n",
              "Female        92  0.187373\n",
              "nan           11  0.022403"
            ]
          },
          "metadata": {
            "tags": []
          }
        },
        {
          "output_type": "display_data",
          "data": {
            "image/png": "[encoded data removed]",
            "text/plain": [
              "<Figure size 432x288 with 2 Axes>"
            ]
          },
          "metadata": {
            "tags": [],
            "needs_background": "light"
          }
        },
        {
          "output_type": "stream",
          "text": [
            "\n",
            "\n",
            "\n",
            "-------------------- Married --------------------\n"
          ],
          "name": "stdout"
        },
        {
          "output_type": "display_data",
          "data": {
            "text/html": [
              "<div>\n",
              "<style scoped>\n",
              "    .dataframe tbody tr th:only-of-type {\n",
              "        vertical-align: middle;\n",
              "    }\n",
              "\n",
              "    .dataframe tbody tr th {\n",
              "        vertical-align: top;\n",
              "    }\n",
              "\n",
              "    .dataframe thead th {\n",
              "        text-align: right;\n",
              "    }\n",
              "</style>\n",
              "<table border=\"1\" class=\"dataframe\">\n",
              "  <thead>\n",
              "    <tr style=\"text-align: right;\">\n",
              "      <th></th>\n",
              "      <th>FREC_ABS</th>\n",
              "      <th>FREC_REL</th>\n",
              "    </tr>\n",
              "  </thead>\n",
              "  <tbody>\n",
              "    <tr>\n",
              "      <th>Yes</th>\n",
              "      <td>320</td>\n",
              "      <td>0.651731</td>\n",
              "    </tr>\n",
              "    <tr>\n",
              "      <th>No</th>\n",
              "      <td>170</td>\n",
              "      <td>0.346232</td>\n",
              "    </tr>\n",
              "    <tr>\n",
              "      <th>nan</th>\n",
              "      <td>1</td>\n",
              "      <td>0.002037</td>\n",
              "    </tr>\n",
              "  </tbody>\n",
              "</table>\n",
              "</div>"
            ],
            "text/plain": [
              "     FREC_ABS  FREC_REL\n",
              "Yes       320  0.651731\n",
              "No        170  0.346232\n",
              "nan         1  0.002037"
            ]
          },
          "metadata": {
            "tags": []
          }
        },
        {
          "output_type": "display_data",
          "data": {
            "image/png": "[encoded data removed]",
            "text/plain": [
              "<Figure size 432x288 with 2 Axes>"
            ]
          },
          "metadata": {
            "tags": [],
            "needs_background": "light"
          }
        },
        {
          "output_type": "stream",
          "text": [
            "\n",
            "\n",
            "\n",
            "-------------------- Dependents --------------------\n"
          ],
          "name": "stdout"
        },
        {
          "output_type": "display_data",
          "data": {
            "text/html": [
              "<div>\n",
              "<style scoped>\n",
              "    .dataframe tbody tr th:only-of-type {\n",
              "        vertical-align: middle;\n",
              "    }\n",
              "\n",
              "    .dataframe tbody tr th {\n",
              "        vertical-align: top;\n",
              "    }\n",
              "\n",
              "    .dataframe thead th {\n",
              "        text-align: right;\n",
              "    }\n",
              "</style>\n",
              "<table border=\"1\" class=\"dataframe\">\n",
              "  <thead>\n",
              "    <tr style=\"text-align: right;\">\n",
              "      <th></th>\n",
              "      <th>FREC_ABS</th>\n",
              "      <th>FREC_REL</th>\n",
              "    </tr>\n",
              "  </thead>\n",
              "  <tbody>\n",
              "    <tr>\n",
              "      <th>0</th>\n",
              "      <td>272</td>\n",
              "      <td>0.553971</td>\n",
              "    </tr>\n",
              "    <tr>\n",
              "      <th>2</th>\n",
              "      <td>87</td>\n",
              "      <td>0.177189</td>\n",
              "    </tr>\n",
              "    <tr>\n",
              "      <th>1</th>\n",
              "      <td>81</td>\n",
              "      <td>0.164969</td>\n",
              "    </tr>\n",
              "    <tr>\n",
              "      <th>3+</th>\n",
              "      <td>41</td>\n",
              "      <td>0.083503</td>\n",
              "    </tr>\n",
              "    <tr>\n",
              "      <th>nan</th>\n",
              "      <td>10</td>\n",
              "      <td>0.020367</td>\n",
              "    </tr>\n",
              "  </tbody>\n",
              "</table>\n",
              "</div>"
            ],
            "text/plain": [
              "     FREC_ABS  FREC_REL\n",
              "0         272  0.553971\n",
              "2          87  0.177189\n",
              "1          81  0.164969\n",
              "3+         41  0.083503\n",
              "nan        10  0.020367"
            ]
          },
          "metadata": {
            "tags": []
          }
        },
        {
          "output_type": "display_data",
          "data": {
            "image/png": "[encoded data removed]",
            "text/plain": [
              "<Figure size 432x288 with 2 Axes>"
            ]
          },
          "metadata": {
            "tags": [],
            "needs_background": "light"
          }
        },
        {
          "output_type": "stream",
          "text": [
            "\n",
            "\n",
            "\n",
            "-------------------- Education --------------------\n"
          ],
          "name": "stdout"
        },
        {
          "output_type": "display_data",
          "data": {
            "text/html": [
              "<div>\n",
              "<style scoped>\n",
              "    .dataframe tbody tr th:only-of-type {\n",
              "        vertical-align: middle;\n",
              "    }\n",
              "\n",
              "    .dataframe tbody tr th {\n",
              "        vertical-align: top;\n",
              "    }\n",
              "\n",
              "    .dataframe thead th {\n",
              "        text-align: right;\n",
              "    }\n",
              "</style>\n",
              "<table border=\"1\" class=\"dataframe\">\n",
              "  <thead>\n",
              "    <tr style=\"text-align: right;\">\n",
              "      <th></th>\n",
              "      <th>FREC_ABS</th>\n",
              "      <th>FREC_REL</th>\n",
              "    </tr>\n",
              "  </thead>\n",
              "  <tbody>\n",
              "    <tr>\n",
              "      <th>Graduate</th>\n",
              "      <td>388</td>\n",
              "      <td>0.790224</td>\n",
              "    </tr>\n",
              "    <tr>\n",
              "      <th>Not Graduate</th>\n",
              "      <td>103</td>\n",
              "      <td>0.209776</td>\n",
              "    </tr>\n",
              "  </tbody>\n",
              "</table>\n",
              "</div>"
            ],
            "text/plain": [
              "              FREC_ABS  FREC_REL\n",
              "Graduate           388  0.790224\n",
              "Not Graduate       103  0.209776"
            ]
          },
          "metadata": {
            "tags": []
          }
        },
        {
          "output_type": "display_data",
          "data": {
            "image/png": "[encoded data removed]",
            "text/plain": [
              "<Figure size 432x288 with 2 Axes>"
            ]
          },
          "metadata": {
            "tags": [],
            "needs_background": "light"
          }
        },
        {
          "output_type": "stream",
          "text": [
            "\n",
            "\n",
            "\n",
            "-------------------- Self Employed --------------------\n"
          ],
          "name": "stdout"
        },
        {
          "output_type": "display_data",
          "data": {
            "text/html": [
              "<div>\n",
              "<style scoped>\n",
              "    .dataframe tbody tr th:only-of-type {\n",
              "        vertical-align: middle;\n",
              "    }\n",
              "\n",
              "    .dataframe tbody tr th {\n",
              "        vertical-align: top;\n",
              "    }\n",
              "\n",
              "    .dataframe thead th {\n",
              "        text-align: right;\n",
              "    }\n",
              "</style>\n",
              "<table border=\"1\" class=\"dataframe\">\n",
              "  <thead>\n",
              "    <tr style=\"text-align: right;\">\n",
              "      <th></th>\n",
              "      <th>FREC_ABS</th>\n",
              "      <th>FREC_REL</th>\n",
              "    </tr>\n",
              "  </thead>\n",
              "  <tbody>\n",
              "    <tr>\n",
              "      <th>No</th>\n",
              "      <td>396</td>\n",
              "      <td>0.806517</td>\n",
              "    </tr>\n",
              "    <tr>\n",
              "      <th>Yes</th>\n",
              "      <td>69</td>\n",
              "      <td>0.140530</td>\n",
              "    </tr>\n",
              "    <tr>\n",
              "      <th>nan</th>\n",
              "      <td>26</td>\n",
              "      <td>0.052953</td>\n",
              "    </tr>\n",
              "  </tbody>\n",
              "</table>\n",
              "</div>"
            ],
            "text/plain": [
              "     FREC_ABS  FREC_REL\n",
              "No        396  0.806517\n",
              "Yes        69  0.140530\n",
              "nan        26  0.052953"
            ]
          },
          "metadata": {
            "tags": []
          }
        },
        {
          "output_type": "display_data",
          "data": {
            "image/png": "[encoded data removed]",
            "text/plain": [
              "<Figure size 432x288 with 2 Axes>"
            ]
          },
          "metadata": {
            "tags": [],
            "needs_background": "light"
          }
        },
        {
          "output_type": "stream",
          "text": [
            "\n",
            "\n",
            "\n",
            "-------------------- Credit History --------------------\n"
          ],
          "name": "stdout"
        },
        {
          "output_type": "display_data",
          "data": {
            "text/html": [
              "<div>\n",
              "<style scoped>\n",
              "    .dataframe tbody tr th:only-of-type {\n",
              "        vertical-align: middle;\n",
              "    }\n",
              "\n",
              "    .dataframe tbody tr th {\n",
              "        vertical-align: top;\n",
              "    }\n",
              "\n",
              "    .dataframe thead th {\n",
              "        text-align: right;\n",
              "    }\n",
              "</style>\n",
              "<table border=\"1\" class=\"dataframe\">\n",
              "  <thead>\n",
              "    <tr style=\"text-align: right;\">\n",
              "      <th></th>\n",
              "      <th>FREC_ABS</th>\n",
              "      <th>FREC_REL</th>\n",
              "    </tr>\n",
              "  </thead>\n",
              "  <tbody>\n",
              "    <tr>\n",
              "      <th>1.0</th>\n",
              "      <td>380</td>\n",
              "      <td>0.773931</td>\n",
              "    </tr>\n",
              "    <tr>\n",
              "      <th>0.0</th>\n",
              "      <td>71</td>\n",
              "      <td>0.144603</td>\n",
              "    </tr>\n",
              "    <tr>\n",
              "      <th>nan</th>\n",
              "      <td>40</td>\n",
              "      <td>0.081466</td>\n",
              "    </tr>\n",
              "  </tbody>\n",
              "</table>\n",
              "</div>"
            ],
            "text/plain": [
              "     FREC_ABS  FREC_REL\n",
              "1.0       380  0.773931\n",
              "0.0        71  0.144603\n",
              "nan        40  0.081466"
            ]
          },
          "metadata": {
            "tags": []
          }
        },
        {
          "output_type": "display_data",
          "data": {
            "image/png": "[encoded data removed]",
            "text/plain": [
              "<Figure size 432x288 with 2 Axes>"
            ]
          },
          "metadata": {
            "tags": [],
            "needs_background": "light"
          }
        },
        {
          "output_type": "stream",
          "text": [
            "\n",
            "\n",
            "\n",
            "-------------------- Property_Area --------------------\n"
          ],
          "name": "stdout"
        },
        {
          "output_type": "display_data",
          "data": {
            "text/html": [
              "<div>\n",
              "<style scoped>\n",
              "    .dataframe tbody tr th:only-of-type {\n",
              "        vertical-align: middle;\n",
              "    }\n",
              "\n",
              "    .dataframe tbody tr th {\n",
              "        vertical-align: top;\n",
              "    }\n",
              "\n",
              "    .dataframe thead th {\n",
              "        text-align: right;\n",
              "    }\n",
              "</style>\n",
              "<table border=\"1\" class=\"dataframe\">\n",
              "  <thead>\n",
              "    <tr style=\"text-align: right;\">\n",
              "      <th></th>\n",
              "      <th>FREC_ABS</th>\n",
              "      <th>FREC_REL</th>\n",
              "    </tr>\n",
              "  </thead>\n",
              "  <tbody>\n",
              "    <tr>\n",
              "      <th>Semiurban</th>\n",
              "      <td>180</td>\n",
              "      <td>0.366599</td>\n",
              "    </tr>\n",
              "    <tr>\n",
              "      <th>Urban</th>\n",
              "      <td>168</td>\n",
              "      <td>0.342159</td>\n",
              "    </tr>\n",
              "    <tr>\n",
              "      <th>Rural</th>\n",
              "      <td>143</td>\n",
              "      <td>0.291242</td>\n",
              "    </tr>\n",
              "  </tbody>\n",
              "</table>\n",
              "</div>"
            ],
            "text/plain": [
              "           FREC_ABS  FREC_REL\n",
              "Semiurban       180  0.366599\n",
              "Urban           168  0.342159\n",
              "Rural           143  0.291242"
            ]
          },
          "metadata": {
            "tags": []
          }
        },
        {
          "output_type": "display_data",
          "data": {
            "image/png": "[encoded data removed]",
            "text/plain": [
              "<Figure size 432x288 with 2 Axes>"
            ]
          },
          "metadata": {
            "tags": [],
            "needs_background": "light"
          }
        },
        {
          "output_type": "stream",
          "text": [
            "\n",
            "\n",
            "\n"
          ],
          "name": "stdout"
        }
      ]
    },
    {
      "cell_type": "markdown",
      "metadata": {
        "id": "t2ZVKNmEwL-K"
      },
      "source": [
        "## 3 Preprocesamiento de los datos\n"
      ]
    },
    {
      "cell_type": "markdown",
      "metadata": {
        "id": "aXtpN1_yGimC"
      },
      "source": [
        "### 3.1.- Análisis y tratamiento de valores Nulos"
      ]
    },
    {
      "cell_type": "code",
      "metadata": {
        "id": "b5-Ijs56cj-O"
      },
      "source": [
        "import missingno as msno"
      ],
      "execution_count": null,
      "outputs": []
    },
    {
      "cell_type": "code",
      "metadata": {
        "colab": {
          "base_uri": "https://localhost:8080/",
          "height": 561
        },
        "id": "OBJw4h8Fcljw",
        "outputId": "0eb0e2a6-fad3-4a86-bec1-ec321a65a5dc"
      },
      "source": [
        "#Corroboramos la existencia de variables nulos en 7 de nuestras variables\n",
        "msno.matrix(X_train)"
      ],
      "execution_count": null,
      "outputs": [
        {
          "output_type": "execute_result",
          "data": {
            "text/plain": [
              "<matplotlib.axes._subplots.AxesSubplot at 0x7f9eb7e2ccd0>"
            ]
          },
          "metadata": {
            "tags": []
          },
          "execution_count": 207
        },
        {
          "output_type": "display_data",
          "data": {
            "image/png": "[encoded data removed]",
            "text/plain": [
              "<Figure size 1800x720 with 2 Axes>"
            ]
          },
          "metadata": {
            "tags": [],
            "needs_background": "light"
          }
        }
      ]
    },
    {
      "cell_type": "code",
      "metadata": {
        "colab": {
          "base_uri": "https://localhost:8080/"
        },
        "id": "r8TqWqNwdi2C",
        "outputId": "cb2c0ce4-ea98-4c39-8c3a-527886d86592"
      },
      "source": [
        "#Notamos la existencia de variables nulos\n",
        "X_train.isnull().sum()"
      ],
      "execution_count": null,
      "outputs": [
        {
          "output_type": "execute_result",
          "data": {
            "text/plain": [
              "Gender               11\n",
              "Married               1\n",
              "Dependents           10\n",
              "Education             0\n",
              "Self Employed        26\n",
              "ApplicantIncome       0\n",
              "CoapplicantIncome     0\n",
              "LoanAmount           19\n",
              "Loan_Amount_Term     10\n",
              "Credit History       40\n",
              "Property_Area         0\n",
              "dtype: int64"
            ]
          },
          "metadata": {
            "tags": []
          },
          "execution_count": 208
        }
      ]
    },
    {
      "cell_type": "markdown",
      "metadata": {
        "id": "zSA2x4YpKKnV"
      },
      "source": [
        "### 3.2.- Separando variables Categóricas y Numéricas"
      ]
    },
    {
      "cell_type": "code",
      "metadata": {
        "id": "LIwBLWVWKMh_"
      },
      "source": [
        "# Separamos la variable numéricas\n",
        "X_train_cat = X_train.select_dtypes('object')\n",
        "# Separamos la variable categóricas\n",
        "X_train_num = X_train.select_dtypes('number')"
      ],
      "execution_count": null,
      "outputs": []
    },
    {
      "cell_type": "code",
      "metadata": {
        "colab": {
          "base_uri": "https://localhost:8080/",
          "height": 111
        },
        "id": "4fRmRvi8eGra",
        "outputId": "189326e9-9f47-434d-dba6-9b53e7419baa"
      },
      "source": [
        "X_train_cat.head(2)"
      ],
      "execution_count": null,
      "outputs": [
        {
          "output_type": "execute_result",
          "data": {
            "text/html": [
              "<div>\n",
              "<style scoped>\n",
              "    .dataframe tbody tr th:only-of-type {\n",
              "        vertical-align: middle;\n",
              "    }\n",
              "\n",
              "    .dataframe tbody tr th {\n",
              "        vertical-align: top;\n",
              "    }\n",
              "\n",
              "    .dataframe thead th {\n",
              "        text-align: right;\n",
              "    }\n",
              "</style>\n",
              "<table border=\"1\" class=\"dataframe\">\n",
              "  <thead>\n",
              "    <tr style=\"text-align: right;\">\n",
              "      <th></th>\n",
              "      <th>Gender</th>\n",
              "      <th>Married</th>\n",
              "      <th>Dependents</th>\n",
              "      <th>Education</th>\n",
              "      <th>Self Employed</th>\n",
              "      <th>Property_Area</th>\n",
              "    </tr>\n",
              "  </thead>\n",
              "  <tbody>\n",
              "    <tr>\n",
              "      <th>316</th>\n",
              "      <td>Male</td>\n",
              "      <td>Yes</td>\n",
              "      <td>2</td>\n",
              "      <td>Graduate</td>\n",
              "      <td>No</td>\n",
              "      <td>Semiurban</td>\n",
              "    </tr>\n",
              "    <tr>\n",
              "      <th>292</th>\n",
              "      <td>Male</td>\n",
              "      <td>Yes</td>\n",
              "      <td>2</td>\n",
              "      <td>Graduate</td>\n",
              "      <td>No</td>\n",
              "      <td>Urban</td>\n",
              "    </tr>\n",
              "  </tbody>\n",
              "</table>\n",
              "</div>"
            ],
            "text/plain": [
              "    Gender Married Dependents Education Self Employed Property_Area\n",
              "316   Male     Yes          2  Graduate            No     Semiurban\n",
              "292   Male     Yes          2  Graduate            No         Urban"
            ]
          },
          "metadata": {
            "tags": []
          },
          "execution_count": 233
        }
      ]
    },
    {
      "cell_type": "code",
      "metadata": {
        "colab": {
          "base_uri": "https://localhost:8080/",
          "height": 111
        },
        "id": "3gYhdkj3eG4k",
        "outputId": "c30c8a54-1551-447a-a850-2bb46a5cfa68"
      },
      "source": [
        "X_train_num.head(2)"
      ],
      "execution_count": null,
      "outputs": [
        {
          "output_type": "execute_result",
          "data": {
            "text/html": [
              "<div>\n",
              "<style scoped>\n",
              "    .dataframe tbody tr th:only-of-type {\n",
              "        vertical-align: middle;\n",
              "    }\n",
              "\n",
              "    .dataframe tbody tr th {\n",
              "        vertical-align: top;\n",
              "    }\n",
              "\n",
              "    .dataframe thead th {\n",
              "        text-align: right;\n",
              "    }\n",
              "</style>\n",
              "<table border=\"1\" class=\"dataframe\">\n",
              "  <thead>\n",
              "    <tr style=\"text-align: right;\">\n",
              "      <th></th>\n",
              "      <th>ApplicantIncome</th>\n",
              "      <th>CoapplicantIncome</th>\n",
              "      <th>LoanAmount</th>\n",
              "      <th>Loan_Amount_Term</th>\n",
              "      <th>Credit History</th>\n",
              "    </tr>\n",
              "  </thead>\n",
              "  <tbody>\n",
              "    <tr>\n",
              "      <th>316</th>\n",
              "      <td>3717</td>\n",
              "      <td>0.0</td>\n",
              "      <td>120.0</td>\n",
              "      <td>360.0</td>\n",
              "      <td>1.0</td>\n",
              "    </tr>\n",
              "    <tr>\n",
              "      <th>292</th>\n",
              "      <td>3153</td>\n",
              "      <td>1560.0</td>\n",
              "      <td>134.0</td>\n",
              "      <td>360.0</td>\n",
              "      <td>1.0</td>\n",
              "    </tr>\n",
              "  </tbody>\n",
              "</table>\n",
              "</div>"
            ],
            "text/plain": [
              "     ApplicantIncome  CoapplicantIncome  ...  Loan_Amount_Term  Credit History\n",
              "316             3717                0.0  ...             360.0             1.0\n",
              "292             3153             1560.0  ...             360.0             1.0\n",
              "\n",
              "[2 rows x 5 columns]"
            ]
          },
          "metadata": {
            "tags": []
          },
          "execution_count": 234
        }
      ]
    },
    {
      "cell_type": "markdown",
      "metadata": {
        "id": "R8dxJH7uenoK"
      },
      "source": [
        "\n",
        "Imputación de numéricas"
      ]
    },
    {
      "cell_type": "code",
      "metadata": {
        "colab": {
          "base_uri": "https://localhost:8080/"
        },
        "id": "5hOUA1XFel0X",
        "outputId": "4aa8dfe8-77e8-4745-a885-45c54b5f5535"
      },
      "source": [
        "# Imputación: es la sustitución de valores no informados en una observación por otros.\n",
        "# observamos el promedio\n",
        "X_train['LoanAmount'].mean()"
      ],
      "execution_count": null,
      "outputs": [
        {
          "output_type": "execute_result",
          "data": {
            "text/plain": [
              "147.29449152542372"
            ]
          },
          "metadata": {
            "tags": []
          },
          "execution_count": 212
        }
      ]
    },
    {
      "cell_type": "code",
      "metadata": {
        "colab": {
          "base_uri": "https://localhost:8080/"
        },
        "id": "02mf5LM8fLUq",
        "outputId": "e01d84ba-c530-4c71-a1ad-ac9b74b41992"
      },
      "source": [
        "# observamos la mediana\n",
        "X_train['LoanAmount'].median()"
      ],
      "execution_count": null,
      "outputs": [
        {
          "output_type": "execute_result",
          "data": {
            "text/plain": [
              "127.0"
            ]
          },
          "metadata": {
            "tags": []
          },
          "execution_count": 213
        }
      ]
    },
    {
      "cell_type": "code",
      "metadata": {
        "id": "Bv3MB5_FCyaF"
      },
      "source": [
        "### Importamos SimpleImputer ###\n",
        "###Para remplazar los valores nulos por los valores deseados ###\n",
        "from sklearn.impute import SimpleImputer"
      ],
      "execution_count": null,
      "outputs": []
    },
    {
      "cell_type": "code",
      "metadata": {
        "id": "z7-Ep5FnDBrH"
      },
      "source": [
        "# Creamos imputer_num para reemplazar los valores nulos por la mediana\n",
        "imputer_num = SimpleImputer(strategy = 'median')"
      ],
      "execution_count": null,
      "outputs": []
    },
    {
      "cell_type": "code",
      "metadata": {
        "colab": {
          "base_uri": "https://localhost:8080/"
        },
        "id": "jqLYZeKLDV_t",
        "outputId": "e2a9138d-210d-4a53-9c3e-1466e31c952d"
      },
      "source": [
        "# Entrenamos las columnas a imputar\n",
        "imputer_num.fit(X_train_num)"
      ],
      "execution_count": null,
      "outputs": [
        {
          "output_type": "execute_result",
          "data": {
            "text/plain": [
              "SimpleImputer(add_indicator=False, copy=True, fill_value=None,\n",
              "              missing_values=nan, strategy='median', verbose=0)"
            ]
          },
          "metadata": {
            "tags": []
          },
          "execution_count": 217
        }
      ]
    },
    {
      "cell_type": "code",
      "metadata": {
        "colab": {
          "base_uri": "https://localhost:8080/"
        },
        "id": "DN8FAWMqr4if",
        "outputId": "19f29b08-429c-4bf4-8358-7e85a9ba598b"
      },
      "source": [
        "# Todas las medianas de cada una de las columnas\n",
        "imputer_num.statistics_"
      ],
      "execution_count": null,
      "outputs": [
        {
          "output_type": "execute_result",
          "data": {
            "text/plain": [
              "array([3.813e+03, 1.131e+03, 1.270e+02, 3.600e+02, 1.000e+00])"
            ]
          },
          "metadata": {
            "tags": []
          },
          "execution_count": 218
        }
      ]
    },
    {
      "cell_type": "code",
      "metadata": {
        "colab": {
          "base_uri": "https://localhost:8080/"
        },
        "id": "njCiNzyZswa9",
        "outputId": "af9f0802-71e5-4838-e21c-78388c897f5d"
      },
      "source": [
        "# Array de todos los valores de las columnas sin valores nulos - return numpy ndarray\n",
        "imputer_num.transform(X_train_num)"
      ],
      "execution_count": null,
      "outputs": [
        {
          "output_type": "execute_result",
          "data": {
            "text/plain": [
              "array([[3.7170e+03, 0.0000e+00, 1.2000e+02, 3.6000e+02, 1.0000e+00],\n",
              "       [3.1530e+03, 1.5600e+03, 1.3400e+02, 3.6000e+02, 1.0000e+00],\n",
              "       [1.3650e+04, 0.0000e+00, 1.2700e+02, 3.6000e+02, 1.0000e+00],\n",
              "       ...,\n",
              "       [6.5000e+03, 0.0000e+00, 1.0500e+02, 3.6000e+02, 0.0000e+00],\n",
              "       [2.3330e+03, 1.5160e+03, 9.5000e+01, 3.6000e+02, 1.0000e+00],\n",
              "       [3.9147e+04, 4.7500e+03, 1.2000e+02, 3.6000e+02, 1.0000e+00]])"
            ]
          },
          "metadata": {
            "tags": []
          },
          "execution_count": 219
        }
      ]
    },
    {
      "cell_type": "code",
      "metadata": {
        "id": "WLuM011Ns4vN"
      },
      "source": [
        "# De un array convertimos en dataframe\n",
        "X_train_num_imputed = pd.DataFrame(data = imputer_num.transform(X_train_num), columns = X_train_num.columns)"
      ],
      "execution_count": null,
      "outputs": []
    },
    {
      "cell_type": "code",
      "metadata": {
        "colab": {
          "base_uri": "https://localhost:8080/",
          "height": 143
        },
        "id": "WYS_oGcptDE8",
        "outputId": "7dc5a81b-000a-41fe-946a-a432296ee379"
      },
      "source": [
        "# Antes de la imputación\n",
        "X_train_num.head(3)"
      ],
      "execution_count": null,
      "outputs": [
        {
          "output_type": "execute_result",
          "data": {
            "text/html": [
              "<div>\n",
              "<style scoped>\n",
              "    .dataframe tbody tr th:only-of-type {\n",
              "        vertical-align: middle;\n",
              "    }\n",
              "\n",
              "    .dataframe tbody tr th {\n",
              "        vertical-align: top;\n",
              "    }\n",
              "\n",
              "    .dataframe thead th {\n",
              "        text-align: right;\n",
              "    }\n",
              "</style>\n",
              "<table border=\"1\" class=\"dataframe\">\n",
              "  <thead>\n",
              "    <tr style=\"text-align: right;\">\n",
              "      <th></th>\n",
              "      <th>ApplicantIncome</th>\n",
              "      <th>CoapplicantIncome</th>\n",
              "      <th>LoanAmount</th>\n",
              "      <th>Loan_Amount_Term</th>\n",
              "      <th>Credit History</th>\n",
              "    </tr>\n",
              "  </thead>\n",
              "  <tbody>\n",
              "    <tr>\n",
              "      <th>316</th>\n",
              "      <td>3717</td>\n",
              "      <td>0.0</td>\n",
              "      <td>120.0</td>\n",
              "      <td>360.0</td>\n",
              "      <td>1.0</td>\n",
              "    </tr>\n",
              "    <tr>\n",
              "      <th>292</th>\n",
              "      <td>3153</td>\n",
              "      <td>1560.0</td>\n",
              "      <td>134.0</td>\n",
              "      <td>360.0</td>\n",
              "      <td>1.0</td>\n",
              "    </tr>\n",
              "    <tr>\n",
              "      <th>102</th>\n",
              "      <td>13650</td>\n",
              "      <td>0.0</td>\n",
              "      <td>NaN</td>\n",
              "      <td>360.0</td>\n",
              "      <td>1.0</td>\n",
              "    </tr>\n",
              "  </tbody>\n",
              "</table>\n",
              "</div>"
            ],
            "text/plain": [
              "     ApplicantIncome  CoapplicantIncome  ...  Loan_Amount_Term  Credit History\n",
              "316             3717                0.0  ...             360.0             1.0\n",
              "292             3153             1560.0  ...             360.0             1.0\n",
              "102            13650                0.0  ...             360.0             1.0\n",
              "\n",
              "[3 rows x 5 columns]"
            ]
          },
          "metadata": {
            "tags": []
          },
          "execution_count": 235
        }
      ]
    },
    {
      "cell_type": "code",
      "metadata": {
        "colab": {
          "base_uri": "https://localhost:8080/",
          "height": 111
        },
        "id": "Czid0tM6tFXd",
        "outputId": "eee277a1-e143-4c3a-c5f6-150118f838c3"
      },
      "source": [
        "# Después de la imputación\n",
        "X_train_num_imputed.head(3)"
      ],
      "execution_count": null,
      "outputs": [
        {
          "output_type": "execute_result",
          "data": {
            "text/html": [
              "<div>\n",
              "<style scoped>\n",
              "    .dataframe tbody tr th:only-of-type {\n",
              "        vertical-align: middle;\n",
              "    }\n",
              "\n",
              "    .dataframe tbody tr th {\n",
              "        vertical-align: top;\n",
              "    }\n",
              "\n",
              "    .dataframe thead th {\n",
              "        text-align: right;\n",
              "    }\n",
              "</style>\n",
              "<table border=\"1\" class=\"dataframe\">\n",
              "  <thead>\n",
              "    <tr style=\"text-align: right;\">\n",
              "      <th></th>\n",
              "      <th>ApplicantIncome</th>\n",
              "      <th>CoapplicantIncome</th>\n",
              "      <th>LoanAmount</th>\n",
              "      <th>Loan_Amount_Term</th>\n",
              "      <th>Credit History</th>\n",
              "    </tr>\n",
              "  </thead>\n",
              "  <tbody>\n",
              "    <tr>\n",
              "      <th>0</th>\n",
              "      <td>3717.0</td>\n",
              "      <td>0.0</td>\n",
              "      <td>120.0</td>\n",
              "      <td>360.0</td>\n",
              "      <td>1.0</td>\n",
              "    </tr>\n",
              "    <tr>\n",
              "      <th>1</th>\n",
              "      <td>3153.0</td>\n",
              "      <td>1560.0</td>\n",
              "      <td>134.0</td>\n",
              "      <td>360.0</td>\n",
              "      <td>1.0</td>\n",
              "    </tr>\n",
              "  </tbody>\n",
              "</table>\n",
              "</div>"
            ],
            "text/plain": [
              "   ApplicantIncome  CoapplicantIncome  ...  Loan_Amount_Term  Credit History\n",
              "0           3717.0                0.0  ...             360.0             1.0\n",
              "1           3153.0             1560.0  ...             360.0             1.0\n",
              "\n",
              "[2 rows x 5 columns]"
            ]
          },
          "metadata": {
            "tags": []
          },
          "execution_count": 236
        }
      ]
    },
    {
      "cell_type": "code",
      "metadata": {
        "colab": {
          "base_uri": "https://localhost:8080/"
        },
        "id": "ERw6_YVHta1p",
        "outputId": "5a90ddee-8c8f-43e7-ef7e-f4abd33ee063"
      },
      "source": [
        "# Antes de la imputación\n",
        "X_train_num.isnull().sum()"
      ],
      "execution_count": null,
      "outputs": [
        {
          "output_type": "execute_result",
          "data": {
            "text/plain": [
              "ApplicantIncome       0\n",
              "CoapplicantIncome     0\n",
              "LoanAmount           19\n",
              "Loan_Amount_Term     10\n",
              "Credit History       40\n",
              "dtype: int64"
            ]
          },
          "metadata": {
            "tags": []
          },
          "execution_count": 223
        }
      ]
    },
    {
      "cell_type": "code",
      "metadata": {
        "colab": {
          "base_uri": "https://localhost:8080/"
        },
        "id": "qJ6PPAZSta3W",
        "outputId": "174fbb57-6e2d-4a01-b37f-80b781d2581b"
      },
      "source": [
        "# Después de la imputación\n",
        "X_train_num_imputed.isnull().sum()"
      ],
      "execution_count": null,
      "outputs": [
        {
          "output_type": "execute_result",
          "data": {
            "text/plain": [
              "ApplicantIncome      0\n",
              "CoapplicantIncome    0\n",
              "LoanAmount           0\n",
              "Loan_Amount_Term     0\n",
              "Credit History       0\n",
              "dtype: int64"
            ]
          },
          "metadata": {
            "tags": []
          },
          "execution_count": 224
        }
      ]
    },
    {
      "cell_type": "markdown",
      "metadata": {
        "id": "Qiv6SynYt08p"
      },
      "source": [
        "Imputación de variables categóricas"
      ]
    },
    {
      "cell_type": "code",
      "metadata": {
        "colab": {
          "base_uri": "https://localhost:8080/",
          "height": 205
        },
        "id": "Cpc9-u7-tuPE",
        "outputId": "2a16f2bd-11f6-42f5-c275-6fb4ec648f8e"
      },
      "source": [
        "### Reemplazamos con valores mas frecuentes a los valores nulos ### MODA\n",
        "imputer_cat = SimpleImputer(strategy='most_frequent')\n",
        "imputer_cat.fit(X_train_cat)\n",
        "X_train_cat_imputed = pd.DataFrame(imputer_cat.transform(X_train_cat), columns = X_train_cat.columns)\n",
        "\n",
        "X_train_cat_imputed.head()"
      ],
      "execution_count": null,
      "outputs": [
        {
          "output_type": "execute_result",
          "data": {
            "text/html": [
              "<div>\n",
              "<style scoped>\n",
              "    .dataframe tbody tr th:only-of-type {\n",
              "        vertical-align: middle;\n",
              "    }\n",
              "\n",
              "    .dataframe tbody tr th {\n",
              "        vertical-align: top;\n",
              "    }\n",
              "\n",
              "    .dataframe thead th {\n",
              "        text-align: right;\n",
              "    }\n",
              "</style>\n",
              "<table border=\"1\" class=\"dataframe\">\n",
              "  <thead>\n",
              "    <tr style=\"text-align: right;\">\n",
              "      <th></th>\n",
              "      <th>Gender</th>\n",
              "      <th>Married</th>\n",
              "      <th>Dependents</th>\n",
              "      <th>Education</th>\n",
              "      <th>Self Employed</th>\n",
              "      <th>Property_Area</th>\n",
              "    </tr>\n",
              "  </thead>\n",
              "  <tbody>\n",
              "    <tr>\n",
              "      <th>0</th>\n",
              "      <td>Male</td>\n",
              "      <td>Yes</td>\n",
              "      <td>2</td>\n",
              "      <td>Graduate</td>\n",
              "      <td>No</td>\n",
              "      <td>Semiurban</td>\n",
              "    </tr>\n",
              "    <tr>\n",
              "      <th>1</th>\n",
              "      <td>Male</td>\n",
              "      <td>Yes</td>\n",
              "      <td>2</td>\n",
              "      <td>Graduate</td>\n",
              "      <td>No</td>\n",
              "      <td>Urban</td>\n",
              "    </tr>\n",
              "    <tr>\n",
              "      <th>2</th>\n",
              "      <td>Male</td>\n",
              "      <td>Yes</td>\n",
              "      <td>0</td>\n",
              "      <td>Graduate</td>\n",
              "      <td>No</td>\n",
              "      <td>Urban</td>\n",
              "    </tr>\n",
              "    <tr>\n",
              "      <th>3</th>\n",
              "      <td>Male</td>\n",
              "      <td>No</td>\n",
              "      <td>0</td>\n",
              "      <td>Graduate</td>\n",
              "      <td>No</td>\n",
              "      <td>Urban</td>\n",
              "    </tr>\n",
              "    <tr>\n",
              "      <th>4</th>\n",
              "      <td>Female</td>\n",
              "      <td>No</td>\n",
              "      <td>0</td>\n",
              "      <td>Graduate</td>\n",
              "      <td>No</td>\n",
              "      <td>Semiurban</td>\n",
              "    </tr>\n",
              "  </tbody>\n",
              "</table>\n",
              "</div>"
            ],
            "text/plain": [
              "   Gender Married Dependents Education Self Employed Property_Area\n",
              "0    Male     Yes          2  Graduate            No     Semiurban\n",
              "1    Male     Yes          2  Graduate            No         Urban\n",
              "2    Male     Yes          0  Graduate            No         Urban\n",
              "3    Male      No          0  Graduate            No         Urban\n",
              "4  Female      No          0  Graduate            No     Semiurban"
            ]
          },
          "metadata": {
            "tags": []
          },
          "execution_count": 225
        }
      ]
    },
    {
      "cell_type": "code",
      "metadata": {
        "colab": {
          "base_uri": "https://localhost:8080/"
        },
        "id": "s6VeT1HStuRV",
        "outputId": "8a35f8bf-bc03-4beb-80d0-3a98a03295b8"
      },
      "source": [
        "# Antes de la imputación\n",
        "X_train_cat.isnull().sum()"
      ],
      "execution_count": null,
      "outputs": [
        {
          "output_type": "execute_result",
          "data": {
            "text/plain": [
              "Gender           11\n",
              "Married           1\n",
              "Dependents       10\n",
              "Education         0\n",
              "Self Employed    26\n",
              "Property_Area     0\n",
              "dtype: int64"
            ]
          },
          "metadata": {
            "tags": []
          },
          "execution_count": 226
        }
      ]
    },
    {
      "cell_type": "code",
      "metadata": {
        "colab": {
          "base_uri": "https://localhost:8080/"
        },
        "id": "rKAECHeRtuXC",
        "outputId": "6140b519-950f-4254-fcb2-8844e2ac1618"
      },
      "source": [
        "# Después de la imputación\n",
        "X_train_cat_imputed.isnull().sum()"
      ],
      "execution_count": null,
      "outputs": [
        {
          "output_type": "execute_result",
          "data": {
            "text/plain": [
              "Gender           0\n",
              "Married          0\n",
              "Dependents       0\n",
              "Education        0\n",
              "Self Employed    0\n",
              "Property_Area    0\n",
              "dtype: int64"
            ]
          },
          "metadata": {
            "tags": []
          },
          "execution_count": 227
        }
      ]
    },
    {
      "cell_type": "markdown",
      "metadata": {
        "id": "uoe0UhjoEtpb"
      },
      "source": [
        "Ya no tenemos valores nulos"
      ]
    },
    {
      "cell_type": "markdown",
      "metadata": {
        "id": "FRJnPsAWY-4x"
      },
      "source": [
        "### 3.3 Obtenemos valores dummies de nuestras variables categóricas"
      ]
    },
    {
      "cell_type": "code",
      "metadata": {
        "colab": {
          "base_uri": "https://localhost:8080/",
          "height": 222
        },
        "id": "NpIpuzBZY8Nq",
        "outputId": "34a4e1bb-3a59-48f3-8bb4-28aaa3f49a70"
      },
      "source": [
        "# Las variables categóricas tranformamos en numerico(lenguaje de máquina)\n",
        "X_train_cat_dummies = pd.get_dummies(X_train_cat_imputed, drop_first=True)\n",
        "X_train_cat_dummies.head()"
      ],
      "execution_count": null,
      "outputs": [
        {
          "output_type": "execute_result",
          "data": {
            "text/html": [
              "<div>\n",
              "<style scoped>\n",
              "    .dataframe tbody tr th:only-of-type {\n",
              "        vertical-align: middle;\n",
              "    }\n",
              "\n",
              "    .dataframe tbody tr th {\n",
              "        vertical-align: top;\n",
              "    }\n",
              "\n",
              "    .dataframe thead th {\n",
              "        text-align: right;\n",
              "    }\n",
              "</style>\n",
              "<table border=\"1\" class=\"dataframe\">\n",
              "  <thead>\n",
              "    <tr style=\"text-align: right;\">\n",
              "      <th></th>\n",
              "      <th>Gender_Male</th>\n",
              "      <th>Married_Yes</th>\n",
              "      <th>Dependents_1</th>\n",
              "      <th>Dependents_2</th>\n",
              "      <th>Dependents_3+</th>\n",
              "      <th>Education_Not Graduate</th>\n",
              "      <th>Self Employed_Yes</th>\n",
              "      <th>Property_Area_Semiurban</th>\n",
              "      <th>Property_Area_Urban</th>\n",
              "    </tr>\n",
              "  </thead>\n",
              "  <tbody>\n",
              "    <tr>\n",
              "      <th>0</th>\n",
              "      <td>1</td>\n",
              "      <td>1</td>\n",
              "      <td>0</td>\n",
              "      <td>1</td>\n",
              "      <td>0</td>\n",
              "      <td>0</td>\n",
              "      <td>0</td>\n",
              "      <td>1</td>\n",
              "      <td>0</td>\n",
              "    </tr>\n",
              "    <tr>\n",
              "      <th>1</th>\n",
              "      <td>1</td>\n",
              "      <td>1</td>\n",
              "      <td>0</td>\n",
              "      <td>1</td>\n",
              "      <td>0</td>\n",
              "      <td>0</td>\n",
              "      <td>0</td>\n",
              "      <td>0</td>\n",
              "      <td>1</td>\n",
              "    </tr>\n",
              "    <tr>\n",
              "      <th>2</th>\n",
              "      <td>1</td>\n",
              "      <td>1</td>\n",
              "      <td>0</td>\n",
              "      <td>0</td>\n",
              "      <td>0</td>\n",
              "      <td>0</td>\n",
              "      <td>0</td>\n",
              "      <td>0</td>\n",
              "      <td>1</td>\n",
              "    </tr>\n",
              "    <tr>\n",
              "      <th>3</th>\n",
              "      <td>1</td>\n",
              "      <td>0</td>\n",
              "      <td>0</td>\n",
              "      <td>0</td>\n",
              "      <td>0</td>\n",
              "      <td>0</td>\n",
              "      <td>0</td>\n",
              "      <td>0</td>\n",
              "      <td>1</td>\n",
              "    </tr>\n",
              "    <tr>\n",
              "      <th>4</th>\n",
              "      <td>0</td>\n",
              "      <td>0</td>\n",
              "      <td>0</td>\n",
              "      <td>0</td>\n",
              "      <td>0</td>\n",
              "      <td>0</td>\n",
              "      <td>0</td>\n",
              "      <td>1</td>\n",
              "      <td>0</td>\n",
              "    </tr>\n",
              "  </tbody>\n",
              "</table>\n",
              "</div>"
            ],
            "text/plain": [
              "   Gender_Male  Married_Yes  ...  Property_Area_Semiurban  Property_Area_Urban\n",
              "0            1            1  ...                        1                    0\n",
              "1            1            1  ...                        0                    1\n",
              "2            1            1  ...                        0                    1\n",
              "3            1            0  ...                        0                    1\n",
              "4            0            0  ...                        1                    0\n",
              "\n",
              "[5 rows x 9 columns]"
            ]
          },
          "metadata": {
            "tags": []
          },
          "execution_count": 229
        }
      ]
    },
    {
      "cell_type": "markdown",
      "metadata": {
        "id": "-rkoIiqlZwIa"
      },
      "source": [
        "\n",
        "### 3.4 Tratamiento de outliers(valores extremos)"
      ]
    },
    {
      "cell_type": "code",
      "metadata": {
        "id": "KH7gG-WB0BN3"
      },
      "source": [
        "# Vamos a topear la variable Ingresos Dependientes en 30 000\n",
        "X_train_num_imputed.loc[X_train_num_imputed['ApplicantIncome'] >= 30000,'ApplicantIncome'] = 30000\n",
        "# Vamos a topear la variable Ingresos Independientes en 15 000\n",
        "X_train_num_imputed.loc[X_train_num_imputed['CoapplicantIncome'] >= 15000,'CoapplicantIncome'] = 15000"
      ],
      "execution_count": null,
      "outputs": []
    },
    {
      "cell_type": "markdown",
      "metadata": {
        "id": "xpYINEMRagRl"
      },
      "source": [
        "### 3.5 Consolidación de los datos"
      ]
    },
    {
      "cell_type": "code",
      "metadata": {
        "id": "ZocNscjFoFBt",
        "colab": {
          "base_uri": "https://localhost:8080/",
          "height": 149
        },
        "outputId": "104a0e2f-bccc-4397-e644-51338884f0b1"
      },
      "source": [
        "# Concatenamos las columnas que habíamos separado en numéricos y categóricos\n",
        "X_train_total = pd.concat([X_train_num_imputed, X_train_cat_dummies], axis = 1)\n",
        "X_train_total.head(2)"
      ],
      "execution_count": null,
      "outputs": [
        {
          "output_type": "execute_result",
          "data": {
            "text/html": [
              "<div>\n",
              "<style scoped>\n",
              "    .dataframe tbody tr th:only-of-type {\n",
              "        vertical-align: middle;\n",
              "    }\n",
              "\n",
              "    .dataframe tbody tr th {\n",
              "        vertical-align: top;\n",
              "    }\n",
              "\n",
              "    .dataframe thead th {\n",
              "        text-align: right;\n",
              "    }\n",
              "</style>\n",
              "<table border=\"1\" class=\"dataframe\">\n",
              "  <thead>\n",
              "    <tr style=\"text-align: right;\">\n",
              "      <th></th>\n",
              "      <th>ApplicantIncome</th>\n",
              "      <th>CoapplicantIncome</th>\n",
              "      <th>LoanAmount</th>\n",
              "      <th>Loan_Amount_Term</th>\n",
              "      <th>Credit History</th>\n",
              "      <th>Gender_Male</th>\n",
              "      <th>Married_Yes</th>\n",
              "      <th>Dependents_1</th>\n",
              "      <th>Dependents_2</th>\n",
              "      <th>Dependents_3+</th>\n",
              "      <th>Education_Not Graduate</th>\n",
              "      <th>Self Employed_Yes</th>\n",
              "      <th>Property_Area_Semiurban</th>\n",
              "      <th>Property_Area_Urban</th>\n",
              "    </tr>\n",
              "  </thead>\n",
              "  <tbody>\n",
              "    <tr>\n",
              "      <th>0</th>\n",
              "      <td>3717.0</td>\n",
              "      <td>0.0</td>\n",
              "      <td>120.0</td>\n",
              "      <td>360.0</td>\n",
              "      <td>1.0</td>\n",
              "      <td>1</td>\n",
              "      <td>1</td>\n",
              "      <td>0</td>\n",
              "      <td>1</td>\n",
              "      <td>0</td>\n",
              "      <td>0</td>\n",
              "      <td>0</td>\n",
              "      <td>1</td>\n",
              "      <td>0</td>\n",
              "    </tr>\n",
              "    <tr>\n",
              "      <th>1</th>\n",
              "      <td>3153.0</td>\n",
              "      <td>1560.0</td>\n",
              "      <td>134.0</td>\n",
              "      <td>360.0</td>\n",
              "      <td>1.0</td>\n",
              "      <td>1</td>\n",
              "      <td>1</td>\n",
              "      <td>0</td>\n",
              "      <td>1</td>\n",
              "      <td>0</td>\n",
              "      <td>0</td>\n",
              "      <td>0</td>\n",
              "      <td>0</td>\n",
              "      <td>1</td>\n",
              "    </tr>\n",
              "  </tbody>\n",
              "</table>\n",
              "</div>"
            ],
            "text/plain": [
              "   ApplicantIncome  ...  Property_Area_Urban\n",
              "0           3717.0  ...                    0\n",
              "1           3153.0  ...                    1\n",
              "\n",
              "[2 rows x 14 columns]"
            ]
          },
          "metadata": {
            "tags": []
          },
          "execution_count": 238
        }
      ]
    },
    {
      "cell_type": "code",
      "metadata": {
        "colab": {
          "base_uri": "https://localhost:8080/"
        },
        "id": "bzDlk-BJa1Rq",
        "outputId": "db29d13a-4705-4e37-80cb-ff201623f059"
      },
      "source": [
        "#Volvemos a verificar valores nulos\n",
        "X_train_total.isnull().sum()"
      ],
      "execution_count": null,
      "outputs": [
        {
          "output_type": "execute_result",
          "data": {
            "text/plain": [
              "ApplicantIncome            0\n",
              "CoapplicantIncome          0\n",
              "LoanAmount                 0\n",
              "Loan_Amount_Term           0\n",
              "Credit History             0\n",
              "Gender_Male                0\n",
              "Married_Yes                0\n",
              "Dependents_1               0\n",
              "Dependents_2               0\n",
              "Dependents_3+              0\n",
              "Education_Not Graduate     0\n",
              "Self Employed_Yes          0\n",
              "Property_Area_Semiurban    0\n",
              "Property_Area_Urban        0\n",
              "dtype: int64"
            ]
          },
          "metadata": {
            "tags": []
          },
          "execution_count": 231
        }
      ]
    },
    {
      "cell_type": "markdown",
      "metadata": {
        "id": "3xt1YM7HbJ5x"
      },
      "source": [
        "### 3.6 Ingeniería de variables"
      ]
    },
    {
      "cell_type": "code",
      "metadata": {
        "id": "0Z7PGtZtxT3f"
      },
      "source": [
        "# Creamos la variable Ingreso Total\n",
        "X_train_total['Ingreso_Total'] = X_train_total['ApplicantIncome'] + X_train_total['CoapplicantIncome']\n",
        "# Creamos la variable Cuota\n",
        "X_train_total['Cuota'] = (X_train_total['LoanAmount'] / X_train_total['Loan_Amount_Term']) * 1000\n",
        "# Creamos la variable Porcentaje Cuota\n",
        "X_train_total['PCT_Cuota'] = X_train_total['Cuota'] / X_train_total['Ingreso_Total']"
      ],
      "execution_count": null,
      "outputs": []
    },
    {
      "cell_type": "markdown",
      "metadata": {
        "id": "iGv0DMukbmlz"
      },
      "source": [
        "### 3.7 Estandarización"
      ]
    },
    {
      "cell_type": "code",
      "metadata": {
        "id": "YvwF9WMbbyq6"
      },
      "source": [
        "# Escalamos los datos en el rango de 0 y 1\n",
        "from sklearn.preprocessing import MinMaxScaler\n",
        "scaler = MinMaxScaler()\n",
        "X_train_scaled = pd.DataFrame(scaler.fit_transform(X_train_total), columns = X_train_total.columns)"
      ],
      "execution_count": null,
      "outputs": []
    },
    {
      "cell_type": "code",
      "metadata": {
        "colab": {
          "base_uri": "https://localhost:8080/",
          "height": 336
        },
        "id": "59sqteV3cEYk",
        "outputId": "cc1e78d2-5c44-4e44-8859-e967e1caf5de"
      },
      "source": [
        "# Después del escalamiento\n",
        "X_train_scaled.describe()"
      ],
      "execution_count": null,
      "outputs": [
        {
          "output_type": "execute_result",
          "data": {
            "text/html": [
              "<div>\n",
              "<style scoped>\n",
              "    .dataframe tbody tr th:only-of-type {\n",
              "        vertical-align: middle;\n",
              "    }\n",
              "\n",
              "    .dataframe tbody tr th {\n",
              "        vertical-align: top;\n",
              "    }\n",
              "\n",
              "    .dataframe thead th {\n",
              "        text-align: right;\n",
              "    }\n",
              "</style>\n",
              "<table border=\"1\" class=\"dataframe\">\n",
              "  <thead>\n",
              "    <tr style=\"text-align: right;\">\n",
              "      <th></th>\n",
              "      <th>ApplicantIncome</th>\n",
              "      <th>CoapplicantIncome</th>\n",
              "      <th>LoanAmount</th>\n",
              "      <th>Loan_Amount_Term</th>\n",
              "      <th>Credit History</th>\n",
              "      <th>Gender_Male</th>\n",
              "      <th>Married_Yes</th>\n",
              "      <th>Dependents_1</th>\n",
              "      <th>Dependents_2</th>\n",
              "      <th>Dependents_3+</th>\n",
              "      <th>Education_Not Graduate</th>\n",
              "      <th>Self Employed_Yes</th>\n",
              "      <th>Property_Area_Semiurban</th>\n",
              "      <th>Property_Area_Urban</th>\n",
              "      <th>Ingreso_Total</th>\n",
              "      <th>Cuota</th>\n",
              "      <th>PCT_Cuota</th>\n",
              "    </tr>\n",
              "  </thead>\n",
              "  <tbody>\n",
              "    <tr>\n",
              "      <th>count</th>\n",
              "      <td>491.000000</td>\n",
              "      <td>491.000000</td>\n",
              "      <td>491.000000</td>\n",
              "      <td>491.000000</td>\n",
              "      <td>491.000000</td>\n",
              "      <td>491.000000</td>\n",
              "      <td>491.000000</td>\n",
              "      <td>491.000000</td>\n",
              "      <td>491.000000</td>\n",
              "      <td>491.000000</td>\n",
              "      <td>491.000000</td>\n",
              "      <td>491.00000</td>\n",
              "      <td>491.000000</td>\n",
              "      <td>491.000000</td>\n",
              "      <td>491.000000</td>\n",
              "      <td>491.000000</td>\n",
              "      <td>491.000000</td>\n",
              "    </tr>\n",
              "    <tr>\n",
              "      <th>mean</th>\n",
              "      <td>0.170814</td>\n",
              "      <td>0.099805</td>\n",
              "      <td>0.199000</td>\n",
              "      <td>0.704684</td>\n",
              "      <td>0.855397</td>\n",
              "      <td>0.812627</td>\n",
              "      <td>0.653768</td>\n",
              "      <td>0.164969</td>\n",
              "      <td>0.177189</td>\n",
              "      <td>0.083503</td>\n",
              "      <td>0.209776</td>\n",
              "      <td>0.14053</td>\n",
              "      <td>0.366599</td>\n",
              "      <td>0.342159</td>\n",
              "      <td>0.160731</td>\n",
              "      <td>0.049421</td>\n",
              "      <td>0.056249</td>\n",
              "    </tr>\n",
              "    <tr>\n",
              "      <th>std</th>\n",
              "      <td>0.155076</td>\n",
              "      <td>0.134536</td>\n",
              "      <td>0.124960</td>\n",
              "      <td>0.136206</td>\n",
              "      <td>0.352059</td>\n",
              "      <td>0.390608</td>\n",
              "      <td>0.476254</td>\n",
              "      <td>0.371532</td>\n",
              "      <td>0.382218</td>\n",
              "      <td>0.276923</td>\n",
              "      <td>0.407564</td>\n",
              "      <td>0.34789</td>\n",
              "      <td>0.482367</td>\n",
              "      <td>0.474916</td>\n",
              "      <td>0.142625</td>\n",
              "      <td>0.059847</td>\n",
              "      <td>0.067052</td>\n",
              "    </tr>\n",
              "    <tr>\n",
              "      <th>min</th>\n",
              "      <td>0.000000</td>\n",
              "      <td>0.000000</td>\n",
              "      <td>0.000000</td>\n",
              "      <td>0.000000</td>\n",
              "      <td>0.000000</td>\n",
              "      <td>0.000000</td>\n",
              "      <td>0.000000</td>\n",
              "      <td>0.000000</td>\n",
              "      <td>0.000000</td>\n",
              "      <td>0.000000</td>\n",
              "      <td>0.000000</td>\n",
              "      <td>0.00000</td>\n",
              "      <td>0.000000</td>\n",
              "      <td>0.000000</td>\n",
              "      <td>0.000000</td>\n",
              "      <td>0.000000</td>\n",
              "      <td>0.000000</td>\n",
              "    </tr>\n",
              "    <tr>\n",
              "      <th>25%</th>\n",
              "      <td>0.089443</td>\n",
              "      <td>0.000000</td>\n",
              "      <td>0.131693</td>\n",
              "      <td>0.743590</td>\n",
              "      <td>1.000000</td>\n",
              "      <td>1.000000</td>\n",
              "      <td>0.000000</td>\n",
              "      <td>0.000000</td>\n",
              "      <td>0.000000</td>\n",
              "      <td>0.000000</td>\n",
              "      <td>0.000000</td>\n",
              "      <td>0.00000</td>\n",
              "      <td>0.000000</td>\n",
              "      <td>0.000000</td>\n",
              "      <td>0.081497</td>\n",
              "      <td>0.028305</td>\n",
              "      <td>0.038081</td>\n",
              "    </tr>\n",
              "    <tr>\n",
              "      <th>50%</th>\n",
              "      <td>0.120947</td>\n",
              "      <td>0.075400</td>\n",
              "      <td>0.170767</td>\n",
              "      <td>0.743590</td>\n",
              "      <td>1.000000</td>\n",
              "      <td>1.000000</td>\n",
              "      <td>1.000000</td>\n",
              "      <td>0.000000</td>\n",
              "      <td>0.000000</td>\n",
              "      <td>0.000000</td>\n",
              "      <td>0.000000</td>\n",
              "      <td>0.00000</td>\n",
              "      <td>0.000000</td>\n",
              "      <td>0.000000</td>\n",
              "      <td>0.119671</td>\n",
              "      <td>0.036134</td>\n",
              "      <td>0.049053</td>\n",
              "    </tr>\n",
              "    <tr>\n",
              "      <th>75%</th>\n",
              "      <td>0.190735</td>\n",
              "      <td>0.150967</td>\n",
              "      <td>0.231548</td>\n",
              "      <td>0.743590</td>\n",
              "      <td>1.000000</td>\n",
              "      <td>1.000000</td>\n",
              "      <td>1.000000</td>\n",
              "      <td>0.000000</td>\n",
              "      <td>0.000000</td>\n",
              "      <td>0.000000</td>\n",
              "      <td>0.000000</td>\n",
              "      <td>0.00000</td>\n",
              "      <td>1.000000</td>\n",
              "      <td>1.000000</td>\n",
              "      <td>0.183034</td>\n",
              "      <td>0.052454</td>\n",
              "      <td>0.059480</td>\n",
              "    </tr>\n",
              "    <tr>\n",
              "      <th>max</th>\n",
              "      <td>1.000000</td>\n",
              "      <td>1.000000</td>\n",
              "      <td>1.000000</td>\n",
              "      <td>1.000000</td>\n",
              "      <td>1.000000</td>\n",
              "      <td>1.000000</td>\n",
              "      <td>1.000000</td>\n",
              "      <td>1.000000</td>\n",
              "      <td>1.000000</td>\n",
              "      <td>1.000000</td>\n",
              "      <td>1.000000</td>\n",
              "      <td>1.00000</td>\n",
              "      <td>1.000000</td>\n",
              "      <td>1.000000</td>\n",
              "      <td>1.000000</td>\n",
              "      <td>1.000000</td>\n",
              "      <td>1.000000</td>\n",
              "    </tr>\n",
              "  </tbody>\n",
              "</table>\n",
              "</div>"
            ],
            "text/plain": [
              "       ApplicantIncome  CoapplicantIncome  ...       Cuota   PCT_Cuota\n",
              "count       491.000000         491.000000  ...  491.000000  491.000000\n",
              "mean          0.170814           0.099805  ...    0.049421    0.056249\n",
              "std           0.155076           0.134536  ...    0.059847    0.067052\n",
              "min           0.000000           0.000000  ...    0.000000    0.000000\n",
              "25%           0.089443           0.000000  ...    0.028305    0.038081\n",
              "50%           0.120947           0.075400  ...    0.036134    0.049053\n",
              "75%           0.190735           0.150967  ...    0.052454    0.059480\n",
              "max           1.000000           1.000000  ...    1.000000    1.000000\n",
              "\n",
              "[8 rows x 17 columns]"
            ]
          },
          "metadata": {
            "tags": []
          },
          "execution_count": 244
        }
      ]
    },
    {
      "cell_type": "code",
      "metadata": {
        "colab": {
          "base_uri": "https://localhost:8080/",
          "height": 336
        },
        "id": "gO1pTLLKcHKh",
        "outputId": "c825b17c-b158-440a-9bc3-d8ccf01833aa"
      },
      "source": [
        "# Antes del escalamiento\n",
        "X_train_total.describe()"
      ],
      "execution_count": null,
      "outputs": [
        {
          "output_type": "execute_result",
          "data": {
            "text/html": [
              "<div>\n",
              "<style scoped>\n",
              "    .dataframe tbody tr th:only-of-type {\n",
              "        vertical-align: middle;\n",
              "    }\n",
              "\n",
              "    .dataframe tbody tr th {\n",
              "        vertical-align: top;\n",
              "    }\n",
              "\n",
              "    .dataframe thead th {\n",
              "        text-align: right;\n",
              "    }\n",
              "</style>\n",
              "<table border=\"1\" class=\"dataframe\">\n",
              "  <thead>\n",
              "    <tr style=\"text-align: right;\">\n",
              "      <th></th>\n",
              "      <th>ApplicantIncome</th>\n",
              "      <th>CoapplicantIncome</th>\n",
              "      <th>LoanAmount</th>\n",
              "      <th>Loan_Amount_Term</th>\n",
              "      <th>Credit History</th>\n",
              "      <th>Gender_Male</th>\n",
              "      <th>Married_Yes</th>\n",
              "      <th>Dependents_1</th>\n",
              "      <th>Dependents_2</th>\n",
              "      <th>Dependents_3+</th>\n",
              "      <th>Education_Not Graduate</th>\n",
              "      <th>Self Employed_Yes</th>\n",
              "      <th>Property_Area_Semiurban</th>\n",
              "      <th>Property_Area_Urban</th>\n",
              "      <th>Ingreso_Total</th>\n",
              "      <th>Cuota</th>\n",
              "      <th>PCT_Cuota</th>\n",
              "    </tr>\n",
              "  </thead>\n",
              "  <tbody>\n",
              "    <tr>\n",
              "      <th>count</th>\n",
              "      <td>491.000000</td>\n",
              "      <td>491.000000</td>\n",
              "      <td>491.000000</td>\n",
              "      <td>491.000000</td>\n",
              "      <td>491.000000</td>\n",
              "      <td>491.000000</td>\n",
              "      <td>491.000000</td>\n",
              "      <td>491.000000</td>\n",
              "      <td>491.000000</td>\n",
              "      <td>491.000000</td>\n",
              "      <td>491.000000</td>\n",
              "      <td>491.00000</td>\n",
              "      <td>491.000000</td>\n",
              "      <td>491.000000</td>\n",
              "      <td>491.000000</td>\n",
              "      <td>491.000000</td>\n",
              "      <td>491.000000</td>\n",
              "    </tr>\n",
              "    <tr>\n",
              "      <th>mean</th>\n",
              "      <td>5298.537678</td>\n",
              "      <td>1497.081303</td>\n",
              "      <td>146.509165</td>\n",
              "      <td>341.792261</td>\n",
              "      <td>0.855397</td>\n",
              "      <td>0.812627</td>\n",
              "      <td>0.653768</td>\n",
              "      <td>0.164969</td>\n",
              "      <td>0.177189</td>\n",
              "      <td>0.083503</td>\n",
              "      <td>0.209776</td>\n",
              "      <td>0.14053</td>\n",
              "      <td>0.366599</td>\n",
              "      <td>0.342159</td>\n",
              "      <td>6795.618982</td>\n",
              "      <td>480.908253</td>\n",
              "      <td>0.077480</td>\n",
              "    </tr>\n",
              "    <tr>\n",
              "      <th>std</th>\n",
              "      <td>4619.707393</td>\n",
              "      <td>2018.043248</td>\n",
              "      <td>86.347337</td>\n",
              "      <td>63.744240</td>\n",
              "      <td>0.352059</td>\n",
              "      <td>0.390608</td>\n",
              "      <td>0.476254</td>\n",
              "      <td>0.371532</td>\n",
              "      <td>0.382218</td>\n",
              "      <td>0.276923</td>\n",
              "      <td>0.407564</td>\n",
              "      <td>0.34789</td>\n",
              "      <td>0.482367</td>\n",
              "      <td>0.474916</td>\n",
              "      <td>4750.556849</td>\n",
              "      <td>552.089089</td>\n",
              "      <td>0.082373</td>\n",
              "    </tr>\n",
              "    <tr>\n",
              "      <th>min</th>\n",
              "      <td>210.000000</td>\n",
              "      <td>0.000000</td>\n",
              "      <td>9.000000</td>\n",
              "      <td>12.000000</td>\n",
              "      <td>0.000000</td>\n",
              "      <td>0.000000</td>\n",
              "      <td>0.000000</td>\n",
              "      <td>0.000000</td>\n",
              "      <td>0.000000</td>\n",
              "      <td>0.000000</td>\n",
              "      <td>0.000000</td>\n",
              "      <td>0.00000</td>\n",
              "      <td>0.000000</td>\n",
              "      <td>0.000000</td>\n",
              "      <td>1442.000000</td>\n",
              "      <td>25.000000</td>\n",
              "      <td>0.008378</td>\n",
              "    </tr>\n",
              "    <tr>\n",
              "      <th>25%</th>\n",
              "      <td>2874.500000</td>\n",
              "      <td>0.000000</td>\n",
              "      <td>100.000000</td>\n",
              "      <td>360.000000</td>\n",
              "      <td>1.000000</td>\n",
              "      <td>1.000000</td>\n",
              "      <td>0.000000</td>\n",
              "      <td>0.000000</td>\n",
              "      <td>0.000000</td>\n",
              "      <td>0.000000</td>\n",
              "      <td>0.000000</td>\n",
              "      <td>0.00000</td>\n",
              "      <td>0.000000</td>\n",
              "      <td>0.000000</td>\n",
              "      <td>4156.500000</td>\n",
              "      <td>286.111111</td>\n",
              "      <td>0.055161</td>\n",
              "    </tr>\n",
              "    <tr>\n",
              "      <th>50%</th>\n",
              "      <td>3813.000000</td>\n",
              "      <td>1131.000000</td>\n",
              "      <td>127.000000</td>\n",
              "      <td>360.000000</td>\n",
              "      <td>1.000000</td>\n",
              "      <td>1.000000</td>\n",
              "      <td>1.000000</td>\n",
              "      <td>0.000000</td>\n",
              "      <td>0.000000</td>\n",
              "      <td>0.000000</td>\n",
              "      <td>0.000000</td>\n",
              "      <td>0.00000</td>\n",
              "      <td>0.000000</td>\n",
              "      <td>0.000000</td>\n",
              "      <td>5428.000000</td>\n",
              "      <td>358.333333</td>\n",
              "      <td>0.068639</td>\n",
              "    </tr>\n",
              "    <tr>\n",
              "      <th>75%</th>\n",
              "      <td>5892.000000</td>\n",
              "      <td>2264.500000</td>\n",
              "      <td>169.000000</td>\n",
              "      <td>360.000000</td>\n",
              "      <td>1.000000</td>\n",
              "      <td>1.000000</td>\n",
              "      <td>1.000000</td>\n",
              "      <td>0.000000</td>\n",
              "      <td>0.000000</td>\n",
              "      <td>0.000000</td>\n",
              "      <td>0.000000</td>\n",
              "      <td>0.00000</td>\n",
              "      <td>1.000000</td>\n",
              "      <td>1.000000</td>\n",
              "      <td>7538.500000</td>\n",
              "      <td>508.888889</td>\n",
              "      <td>0.081449</td>\n",
              "    </tr>\n",
              "    <tr>\n",
              "      <th>max</th>\n",
              "      <td>30000.000000</td>\n",
              "      <td>15000.000000</td>\n",
              "      <td>700.000000</td>\n",
              "      <td>480.000000</td>\n",
              "      <td>1.000000</td>\n",
              "      <td>1.000000</td>\n",
              "      <td>1.000000</td>\n",
              "      <td>1.000000</td>\n",
              "      <td>1.000000</td>\n",
              "      <td>1.000000</td>\n",
              "      <td>1.000000</td>\n",
              "      <td>1.00000</td>\n",
              "      <td>1.000000</td>\n",
              "      <td>1.000000</td>\n",
              "      <td>34750.000000</td>\n",
              "      <td>9250.000000</td>\n",
              "      <td>1.236873</td>\n",
              "    </tr>\n",
              "  </tbody>\n",
              "</table>\n",
              "</div>"
            ],
            "text/plain": [
              "       ApplicantIncome  CoapplicantIncome  ...        Cuota   PCT_Cuota\n",
              "count       491.000000         491.000000  ...   491.000000  491.000000\n",
              "mean       5298.537678        1497.081303  ...   480.908253    0.077480\n",
              "std        4619.707393        2018.043248  ...   552.089089    0.082373\n",
              "min         210.000000           0.000000  ...    25.000000    0.008378\n",
              "25%        2874.500000           0.000000  ...   286.111111    0.055161\n",
              "50%        3813.000000        1131.000000  ...   358.333333    0.068639\n",
              "75%        5892.000000        2264.500000  ...   508.888889    0.081449\n",
              "max       30000.000000       15000.000000  ...  9250.000000    1.236873\n",
              "\n",
              "[8 rows x 17 columns]"
            ]
          },
          "metadata": {
            "tags": []
          },
          "execution_count": 246
        }
      ]
    },
    {
      "cell_type": "markdown",
      "metadata": {
        "id": "KAkMNQjAcxaK"
      },
      "source": [
        "## 4 Repetir todo el preprocesamiento para el conjunto de validación"
      ]
    },
    {
      "cell_type": "code",
      "metadata": {
        "colab": {
          "base_uri": "https://localhost:8080/",
          "height": 163
        },
        "id": "mL6-j7ieco0y",
        "outputId": "4fd2fa9a-975c-414e-fc86-22dcba72557a"
      },
      "source": [
        "X_test.head(2)"
      ],
      "execution_count": null,
      "outputs": [
        {
          "output_type": "execute_result",
          "data": {
            "text/html": [
              "<div>\n",
              "<style scoped>\n",
              "    .dataframe tbody tr th:only-of-type {\n",
              "        vertical-align: middle;\n",
              "    }\n",
              "\n",
              "    .dataframe tbody tr th {\n",
              "        vertical-align: top;\n",
              "    }\n",
              "\n",
              "    .dataframe thead th {\n",
              "        text-align: right;\n",
              "    }\n",
              "</style>\n",
              "<table border=\"1\" class=\"dataframe\">\n",
              "  <thead>\n",
              "    <tr style=\"text-align: right;\">\n",
              "      <th></th>\n",
              "      <th>Gender</th>\n",
              "      <th>Married</th>\n",
              "      <th>Dependents</th>\n",
              "      <th>Education</th>\n",
              "      <th>Self Employed</th>\n",
              "      <th>ApplicantIncome</th>\n",
              "      <th>CoapplicantIncome</th>\n",
              "      <th>LoanAmount</th>\n",
              "      <th>Loan_Amount_Term</th>\n",
              "      <th>Credit History</th>\n",
              "      <th>Property_Area</th>\n",
              "    </tr>\n",
              "  </thead>\n",
              "  <tbody>\n",
              "    <tr>\n",
              "      <th>450</th>\n",
              "      <td>Male</td>\n",
              "      <td>Yes</td>\n",
              "      <td>2</td>\n",
              "      <td>Not Graduate</td>\n",
              "      <td>No</td>\n",
              "      <td>2309</td>\n",
              "      <td>1255.0</td>\n",
              "      <td>125.0</td>\n",
              "      <td>360.0</td>\n",
              "      <td>0.0</td>\n",
              "      <td>Rural</td>\n",
              "    </tr>\n",
              "    <tr>\n",
              "      <th>244</th>\n",
              "      <td>Male</td>\n",
              "      <td>Yes</td>\n",
              "      <td>0</td>\n",
              "      <td>Not Graduate</td>\n",
              "      <td>No</td>\n",
              "      <td>3406</td>\n",
              "      <td>4417.0</td>\n",
              "      <td>123.0</td>\n",
              "      <td>360.0</td>\n",
              "      <td>1.0</td>\n",
              "      <td>Semiurban</td>\n",
              "    </tr>\n",
              "  </tbody>\n",
              "</table>\n",
              "</div>"
            ],
            "text/plain": [
              "    Gender Married Dependents  ... Loan_Amount_Term Credit History  Property_Area\n",
              "450   Male     Yes          2  ...            360.0            0.0          Rural\n",
              "244   Male     Yes          0  ...            360.0            1.0      Semiurban\n",
              "\n",
              "[2 rows x 11 columns]"
            ]
          },
          "metadata": {
            "tags": []
          },
          "execution_count": 248
        }
      ]
    },
    {
      "cell_type": "code",
      "metadata": {
        "id": "7ZFzXVtVc6Qg"
      },
      "source": [
        "#X_test.info()"
      ],
      "execution_count": null,
      "outputs": []
    },
    {
      "cell_type": "markdown",
      "metadata": {
        "id": "Fw5r1jf3d11f"
      },
      "source": [
        "Imputación de nulos"
      ]
    },
    {
      "cell_type": "code",
      "metadata": {
        "id": "AsO8GGjDd0gL"
      },
      "source": [
        "X_test_cat = X_test.select_dtypes('object')\n",
        "X_test_num = X_test.select_dtypes('number')"
      ],
      "execution_count": null,
      "outputs": []
    },
    {
      "cell_type": "code",
      "metadata": {
        "colab": {
          "base_uri": "https://localhost:8080/",
          "height": 111
        },
        "id": "k6rQ0m9deAca",
        "outputId": "5dc2d1cd-f842-4752-b715-f0c4a14411dd"
      },
      "source": [
        "# Numéricas\n",
        "X_test_num_imputed = pd.DataFrame(imputer_num.transform(X_test_num), columns = X_test_num.columns)\n",
        "X_test_num_imputed.head(2)"
      ],
      "execution_count": null,
      "outputs": [
        {
          "output_type": "execute_result",
          "data": {
            "text/html": [
              "<div>\n",
              "<style scoped>\n",
              "    .dataframe tbody tr th:only-of-type {\n",
              "        vertical-align: middle;\n",
              "    }\n",
              "\n",
              "    .dataframe tbody tr th {\n",
              "        vertical-align: top;\n",
              "    }\n",
              "\n",
              "    .dataframe thead th {\n",
              "        text-align: right;\n",
              "    }\n",
              "</style>\n",
              "<table border=\"1\" class=\"dataframe\">\n",
              "  <thead>\n",
              "    <tr style=\"text-align: right;\">\n",
              "      <th></th>\n",
              "      <th>ApplicantIncome</th>\n",
              "      <th>CoapplicantIncome</th>\n",
              "      <th>LoanAmount</th>\n",
              "      <th>Loan_Amount_Term</th>\n",
              "      <th>Credit History</th>\n",
              "    </tr>\n",
              "  </thead>\n",
              "  <tbody>\n",
              "    <tr>\n",
              "      <th>0</th>\n",
              "      <td>2309.0</td>\n",
              "      <td>1255.0</td>\n",
              "      <td>125.0</td>\n",
              "      <td>360.0</td>\n",
              "      <td>0.0</td>\n",
              "    </tr>\n",
              "    <tr>\n",
              "      <th>1</th>\n",
              "      <td>3406.0</td>\n",
              "      <td>4417.0</td>\n",
              "      <td>123.0</td>\n",
              "      <td>360.0</td>\n",
              "      <td>1.0</td>\n",
              "    </tr>\n",
              "  </tbody>\n",
              "</table>\n",
              "</div>"
            ],
            "text/plain": [
              "   ApplicantIncome  CoapplicantIncome  ...  Loan_Amount_Term  Credit History\n",
              "0           2309.0             1255.0  ...             360.0             0.0\n",
              "1           3406.0             4417.0  ...             360.0             1.0\n",
              "\n",
              "[2 rows x 5 columns]"
            ]
          },
          "metadata": {
            "tags": []
          },
          "execution_count": 252
        }
      ]
    },
    {
      "cell_type": "code",
      "metadata": {
        "id": "J8R3GMr91oFM"
      },
      "source": [
        "# Vamos a topear la variable Ingresos Dependientes en 30 000\n",
        "X_test_num_imputed.loc[X_test_num_imputed['ApplicantIncome'] >= 30000,'ApplicantIncome'] = 30000\n",
        "# Vamos a topear la variable Ingresos Independientes en 15 000\n",
        "X_test_num_imputed.loc[X_test_num_imputed['CoapplicantIncome'] >= 15000,'CoapplicantIncome'] = 15000"
      ],
      "execution_count": null,
      "outputs": []
    },
    {
      "cell_type": "code",
      "metadata": {
        "colab": {
          "base_uri": "https://localhost:8080/",
          "height": 111
        },
        "id": "ka0qqJkHeKgL",
        "outputId": "b6198a1a-1429-46bc-b76d-92f62ce01a7a"
      },
      "source": [
        "# Categóricas\n",
        "X_test_cat_imputed = pd.DataFrame(imputer_cat.transform(X_test_cat), columns = X_test_cat.columns)\n",
        "X_test_cat_imputed.head(2)"
      ],
      "execution_count": null,
      "outputs": [
        {
          "output_type": "execute_result",
          "data": {
            "text/html": [
              "<div>\n",
              "<style scoped>\n",
              "    .dataframe tbody tr th:only-of-type {\n",
              "        vertical-align: middle;\n",
              "    }\n",
              "\n",
              "    .dataframe tbody tr th {\n",
              "        vertical-align: top;\n",
              "    }\n",
              "\n",
              "    .dataframe thead th {\n",
              "        text-align: right;\n",
              "    }\n",
              "</style>\n",
              "<table border=\"1\" class=\"dataframe\">\n",
              "  <thead>\n",
              "    <tr style=\"text-align: right;\">\n",
              "      <th></th>\n",
              "      <th>Gender</th>\n",
              "      <th>Married</th>\n",
              "      <th>Dependents</th>\n",
              "      <th>Education</th>\n",
              "      <th>Self Employed</th>\n",
              "      <th>Property_Area</th>\n",
              "    </tr>\n",
              "  </thead>\n",
              "  <tbody>\n",
              "    <tr>\n",
              "      <th>0</th>\n",
              "      <td>Male</td>\n",
              "      <td>Yes</td>\n",
              "      <td>2</td>\n",
              "      <td>Not Graduate</td>\n",
              "      <td>No</td>\n",
              "      <td>Rural</td>\n",
              "    </tr>\n",
              "    <tr>\n",
              "      <th>1</th>\n",
              "      <td>Male</td>\n",
              "      <td>Yes</td>\n",
              "      <td>0</td>\n",
              "      <td>Not Graduate</td>\n",
              "      <td>No</td>\n",
              "      <td>Semiurban</td>\n",
              "    </tr>\n",
              "  </tbody>\n",
              "</table>\n",
              "</div>"
            ],
            "text/plain": [
              "  Gender Married Dependents     Education Self Employed Property_Area\n",
              "0   Male     Yes          2  Not Graduate            No         Rural\n",
              "1   Male     Yes          0  Not Graduate            No     Semiurban"
            ]
          },
          "metadata": {
            "tags": []
          },
          "execution_count": 255
        }
      ]
    },
    {
      "cell_type": "code",
      "metadata": {
        "id": "EsIKxiFpgwmV"
      },
      "source": [
        "# Encoding\n",
        "X_test_cat_dummies = pd.get_dummies(X_test_cat_imputed, drop_first=True)"
      ],
      "execution_count": null,
      "outputs": []
    },
    {
      "cell_type": "code",
      "metadata": {
        "id": "T4fyNS3ShAxP"
      },
      "source": [
        "# Consolidación\n",
        "X_test_total = pd.concat([X_test_num_imputed, X_test_cat_dummies], axis = 1)"
      ],
      "execution_count": null,
      "outputs": []
    },
    {
      "cell_type": "code",
      "metadata": {
        "id": "k3cXijLI2HQx"
      },
      "source": [
        "# Creamos la variable Ingreso Total\n",
        "X_test_total['Ingreso_Total'] = X_test_total['ApplicantIncome'] + X_test_total['CoapplicantIncome']\n",
        "# Creamos la variable Cuota\n",
        "X_test_total['Cuota'] = (X_test_total['LoanAmount'] / X_test_total['Loan_Amount_Term']) * 1000\n",
        "# Creamos la variable Porcentaje Cuota\n",
        "X_test_total['PCT_Cuota'] = X_test_total['Cuota'] / X_test_total['Ingreso_Total']"
      ],
      "execution_count": null,
      "outputs": []
    },
    {
      "cell_type": "code",
      "metadata": {
        "id": "izIiu3_NhLNv"
      },
      "source": [
        "X_test_scaled = pd.DataFrame(scaler.transform(X_test_total), columns = X_test_total.columns)"
      ],
      "execution_count": null,
      "outputs": []
    },
    {
      "cell_type": "markdown",
      "metadata": {
        "id": "VN7TFTaZhUdg"
      },
      "source": [
        "Verificamos que ambas tengan la misma cantidad de columnas"
      ]
    },
    {
      "cell_type": "code",
      "metadata": {
        "colab": {
          "base_uri": "https://localhost:8080/"
        },
        "id": "MFBjLs4ehWOx",
        "outputId": "13dc1dcf-a58c-4467-c19e-ca7862635ac3"
      },
      "source": [
        "X_train_scaled.shape, X_test_scaled.shape"
      ],
      "execution_count": null,
      "outputs": [
        {
          "output_type": "execute_result",
          "data": {
            "text/plain": [
              "(491, 17)"
            ]
          },
          "metadata": {
            "tags": []
          },
          "execution_count": 260
        }
      ]
    },
    {
      "cell_type": "markdown",
      "metadata": {
        "id": "EFpfc5BMhwK2"
      },
      "source": [
        "## 5 Balanceo de datos"
      ]
    },
    {
      "cell_type": "markdown",
      "metadata": {
        "id": "lrHJbIjl35Ju"
      },
      "source": [
        "<img src=\"https://i.ytimg.com/vi/TJJOz6thSfk/maxresdefault.jpg\"\n",
        "     alt=\"Logotipo de HTML5\"  height=\"300\" />"
      ]
    },
    {
      "cell_type": "markdown",
      "metadata": {
        "id": "2G23idxgzZZI"
      },
      "source": [
        "**Se aplica en los problemas clasificación y su finalidad es nivelar nuestras clases.**\n",
        "\n",
        "Los métodos mas conocidos para balancear los datos son:\n",
        "*  Subsampling (Disminuir la clase mayoritaria)\n",
        "*  Oversampling (Incrementa la clase minoritaria)\n",
        "*  Resampling con Smote-Tomek (Union de ambos metodos anteriores)\n",
        "\n"
      ]
    },
    {
      "cell_type": "code",
      "metadata": {
        "colab": {
          "base_uri": "https://localhost:8080/"
        },
        "id": "f_iPAKQVhzeB",
        "outputId": "f0e348ff-af58-4907-e640-f2c225fa3d92"
      },
      "source": [
        "# usamos el resampling\n",
        "from imblearn.combine import SMOTETomek\n",
        "smt = SMOTETomek(sampling_strategy='all', random_state=seed)\n",
        "X_smt, y_smt = smt.fit_resample(X_train_scaled, y_train)"
      ],
      "execution_count": null,
      "outputs": [
        {
          "output_type": "stream",
          "text": [
            "/usr/local/lib/python3.7/dist-packages/sklearn/utils/deprecation.py:87: FutureWarning: Function safe_indexing is deprecated; safe_indexing is deprecated in version 0.22 and will be removed in version 0.24.\n",
            "  warnings.warn(msg, category=FutureWarning)\n",
            "/usr/local/lib/python3.7/dist-packages/sklearn/utils/deprecation.py:87: FutureWarning: Function safe_indexing is deprecated; safe_indexing is deprecated in version 0.22 and will be removed in version 0.24.\n",
            "  warnings.warn(msg, category=FutureWarning)\n"
          ],
          "name": "stderr"
        }
      ]
    },
    {
      "cell_type": "code",
      "metadata": {
        "colab": {
          "base_uri": "https://localhost:8080/"
        },
        "id": "HVun3Bbtk92P",
        "outputId": "6862923c-0cc9-4a96-9801-ea4a0c48e3c6"
      },
      "source": [
        "from collections import Counter\n",
        "print (\"Distribution antes resampling {}\".format(Counter(y_train)))\n",
        "print (\"Distribution después resampling {}\".format(Counter(y_smt)))"
      ],
      "execution_count": null,
      "outputs": [
        {
          "output_type": "stream",
          "text": [
            "Distribution antes resampling Counter({1: 337, 0: 154})\n",
            "Distribution después resampling Counter({1: 312, 0: 312})\n"
          ],
          "name": "stdout"
        }
      ]
    },
    {
      "cell_type": "markdown",
      "metadata": {
        "id": "dw_ufXk0mjyg"
      },
      "source": [
        "## 5 Modelamiento\n"
      ]
    },
    {
      "cell_type": "code",
      "metadata": {
        "id": "a0aFl2hUmnzk"
      },
      "source": [
        "# Importamos la librerías\n",
        "from sklearn import linear_model\n",
        "from sklearn import model_selection\n",
        "from sklearn.metrics import classification_report\n",
        "from sklearn.metrics import confusion_matrix\n",
        "from sklearn.metrics import accuracy_score"
      ],
      "execution_count": null,
      "outputs": []
    },
    {
      "cell_type": "code",
      "metadata": {
        "colab": {
          "base_uri": "https://localhost:8080/"
        },
        "id": "hNdRIcG-mn1m",
        "outputId": "8a9aa7a5-5f31-4802-a50c-c4c8ac9e7f56"
      },
      "source": [
        "# Creamos el modelo y entrenamos el modelo\n",
        "model = linear_model.LogisticRegression()\n",
        "model.fit(X_smt,y_smt)\n",
        "\n",
        "score = model.score(X_smt,y_smt)\n",
        " \n",
        "print(\"Metrica del modelo\", score)"
      ],
      "execution_count": null,
      "outputs": [
        {
          "output_type": "stream",
          "text": [
            "Metrica del modelo 0.7451923076923077\n"
          ],
          "name": "stdout"
        }
      ]
    },
    {
      "cell_type": "code",
      "metadata": {
        "id": "xOjM5UiGpfh_",
        "colab": {
          "base_uri": "https://localhost:8080/"
        },
        "outputId": "20309ae0-8b84-4ce3-8176-ecd9891bc762"
      },
      "source": [
        "from sklearn import metrics\n",
        "preds = model.predict(X_test_scaled)\n",
        "preds_proba = model.predict_proba(X_test_scaled)[:,1]\n",
        "score_pred = metrics.f1_score(y_test, preds)\n",
        "score_auc_pred = metrics.roc_auc_score(y_test, preds)\n",
        "print(\"Metrica f1_score en Test\", score_pred)\n",
        "print(\"Metrica roc_auc en Test\", score_auc_pred)"
      ],
      "execution_count": null,
      "outputs": [
        {
          "output_type": "stream",
          "text": [
            "Metrica f1_score en Test 0.8539325842696629\n",
            "Metrica roc_auc en Test 0.723374613003096\n"
          ],
          "name": "stdout"
        }
      ]
    },
    {
      "cell_type": "markdown",
      "metadata": {
        "id": "TnqfOLfB7DN1"
      },
      "source": [
        "### 5.1 Métricas del modelo"
      ]
    },
    {
      "cell_type": "code",
      "metadata": {
        "id": "JezRMYZ0pgff"
      },
      "source": [
        "import seaborn as sns\n",
        "from sklearn.metrics import confusion_matrix\n",
        "from sklearn.metrics import classification_report\n",
        "\n",
        "\n",
        "def mostrar_resultados(y_test, preds):\n",
        "    Matriz_Confusion = confusion_matrix(y_test, preds)\n",
        "    plt.figure(figsize=(8, 8))\n",
        "    sns.heatmap(Matriz_Confusion, xticklabels=LABELS, yticklabels=LABELS, annot=True, fmt=\"d\", cmap='BrBG',linewidths = 0.5);\n",
        "    plt.title(\"Matriz de confusión\")\n",
        "    plt.ylabel('Actual')\n",
        "    plt.xlabel('Predicha')\n",
        "    plt.show()\n",
        "    print (classification_report(y_test, preds))"
      ],
      "execution_count": null,
      "outputs": []
    },
    {
      "cell_type": "code",
      "metadata": {
        "id": "iDkpYoSMpmUH",
        "colab": {
          "base_uri": "https://localhost:8080/",
          "height": 668
        },
        "outputId": "80c13d3f-89e8-4f50-a2cc-f63787620b79"
      },
      "source": [
        "# Observamos la matriz de confusión\n",
        "mostrar_resultados(y_test,preds)"
      ],
      "execution_count": null,
      "outputs": [
        {
          "output_type": "display_data",
          "data": {
            "image/png": "[encoded data removed]",
            "text/plain": [
              "<Figure size 576x576 with 2 Axes>"
            ]
          },
          "metadata": {
            "tags": [],
            "needs_background": "light"
          }
        },
        {
          "output_type": "stream",
          "text": [
            "              precision    recall  f1-score   support\n",
            "\n",
            "           0       0.70      0.55      0.62        38\n",
            "           1       0.82      0.89      0.85        85\n",
            "\n",
            "    accuracy                           0.79       123\n",
            "   macro avg       0.76      0.72      0.74       123\n",
            "weighted avg       0.78      0.79      0.78       123\n",
            "\n"
          ],
          "name": "stdout"
        }
      ]
    },
    {
      "cell_type": "markdown",
      "metadata": {
        "id": "aPOFtb5DaBNC"
      },
      "source": [
        "## 6 Anexo"
      ]
    },
    {
      "cell_type": "code",
      "metadata": {
        "colab": {
          "base_uri": "https://localhost:8080/",
          "height": 536
        },
        "id": "p0czw5n5Z-a_",
        "outputId": "dc86be28-85b2-47f2-a60a-7601d4844875"
      },
      "source": [
        "plt.figure(figsize=(10,7))\n",
        "sns.heatmap(X_train_num_imputed.corr(method='spearman'), annot=True, linewidths=2)"
      ],
      "execution_count": null,
      "outputs": [
        {
          "output_type": "execute_result",
          "data": {
            "text/plain": [
              "<matplotlib.axes._subplots.AxesSubplot at 0x7f9eb8bc20d0>"
            ]
          },
          "metadata": {
            "tags": []
          },
          "execution_count": 49
        },
        {
          "output_type": "display_data",
          "data": {
            "image/png": "[encoded data removed]",
            "text/plain": [
              "<Figure size 720x504 with 2 Axes>"
            ]
          },
          "metadata": {
            "tags": [],
            "needs_background": "light"
          }
        }
      ]
    }
  ]
}